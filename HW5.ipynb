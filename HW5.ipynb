{
 "cells": [
  {
   "cell_type": "markdown",
   "metadata": {},
   "source": [
    "# ECON 616 Macroeconometrics - HW 5\n",
    "\n",
    "Professor Ed Herbst <br> Steven Zheng <br> sz293@georgetown.edu <br> December 4, 2017"
   ]
  },
  {
   "cell_type": "markdown",
   "metadata": {},
   "source": [
    "## Number 1"
   ]
  },
  {
   "cell_type": "markdown",
   "metadata": {},
   "source": [
    "#### Download data from Gertler and Karadi (2015), drop all observations with NA and where series is uniformly zero. Descriptive statistics and correlation table."
   ]
  },
  {
   "cell_type": "code",
   "execution_count": 1,
   "metadata": {},
   "outputs": [
    {
     "name": "stderr",
     "output_type": "stream",
     "text": [
      "/Users/stevenzheng/anaconda3/lib/python3.6/site-packages/statsmodels/compat/pandas.py:56: FutureWarning: The pandas.core.datetools module is deprecated and will be removed in a future version. Please use the pandas.tseries module instead.\n",
      "  from pandas.core import datetools\n"
     ]
    }
   ],
   "source": [
    "import pandas as pd\n",
    "import numpy as np\n",
    "import matplotlib.pyplot as plt\n",
    "import seaborn as sns; sns.set(style='darkgrid')\n",
    "from scipy.stats.stats import pearsonr\n",
    "from sklearn.preprocessing import StandardScaler\n",
    "import math\n",
    "import statsmodels.api as sm"
   ]
  },
  {
   "cell_type": "code",
   "execution_count": 2,
   "metadata": {},
   "outputs": [
    {
     "data": {
      "text/html": [
       "<div>\n",
       "<style>\n",
       "    .dataframe thead tr:only-child th {\n",
       "        text-align: right;\n",
       "    }\n",
       "\n",
       "    .dataframe thead th {\n",
       "        text-align: left;\n",
       "    }\n",
       "\n",
       "    .dataframe tbody tr th {\n",
       "        vertical-align: top;\n",
       "    }\n",
       "</style>\n",
       "<table border=\"1\" class=\"dataframe\">\n",
       "  <thead>\n",
       "    <tr style=\"text-align: right;\">\n",
       "      <th></th>\n",
       "      <th>year</th>\n",
       "      <th>month</th>\n",
       "      <th>mp1_tc</th>\n",
       "      <th>ff4_tc</th>\n",
       "      <th>ed2_tc</th>\n",
       "      <th>ed3_tc</th>\n",
       "      <th>ed4_tc</th>\n",
       "    </tr>\n",
       "  </thead>\n",
       "  <tbody>\n",
       "    <tr>\n",
       "      <th>262</th>\n",
       "      <td>2012</td>\n",
       "      <td>1</td>\n",
       "      <td>0.000539</td>\n",
       "      <td>0.000000</td>\n",
       "      <td>0.000484</td>\n",
       "      <td>-0.001774</td>\n",
       "      <td>-0.004032</td>\n",
       "    </tr>\n",
       "    <tr>\n",
       "      <th>263</th>\n",
       "      <td>2012</td>\n",
       "      <td>2</td>\n",
       "      <td>-0.003871</td>\n",
       "      <td>0.000000</td>\n",
       "      <td>-0.011613</td>\n",
       "      <td>-0.019355</td>\n",
       "      <td>-0.027097</td>\n",
       "    </tr>\n",
       "    <tr>\n",
       "      <th>264</th>\n",
       "      <td>2012</td>\n",
       "      <td>3</td>\n",
       "      <td>0.000000</td>\n",
       "      <td>0.000000</td>\n",
       "      <td>0.003065</td>\n",
       "      <td>0.009193</td>\n",
       "      <td>0.012258</td>\n",
       "    </tr>\n",
       "    <tr>\n",
       "      <th>265</th>\n",
       "      <td>2012</td>\n",
       "      <td>4</td>\n",
       "      <td>0.000000</td>\n",
       "      <td>0.000000</td>\n",
       "      <td>0.001935</td>\n",
       "      <td>0.005806</td>\n",
       "      <td>0.007742</td>\n",
       "    </tr>\n",
       "    <tr>\n",
       "      <th>266</th>\n",
       "      <td>2012</td>\n",
       "      <td>6</td>\n",
       "      <td>0.002754</td>\n",
       "      <td>0.003667</td>\n",
       "      <td>0.007333</td>\n",
       "      <td>0.007333</td>\n",
       "      <td>0.007333</td>\n",
       "    </tr>\n",
       "  </tbody>\n",
       "</table>\n",
       "</div>"
      ],
      "text/plain": [
       "     year  month    mp1_tc    ff4_tc    ed2_tc    ed3_tc    ed4_tc\n",
       "262  2012      1  0.000539  0.000000  0.000484 -0.001774 -0.004032\n",
       "263  2012      2 -0.003871  0.000000 -0.011613 -0.019355 -0.027097\n",
       "264  2012      3  0.000000  0.000000  0.003065  0.009193  0.012258\n",
       "265  2012      4  0.000000  0.000000  0.001935  0.005806  0.007742\n",
       "266  2012      6  0.002754  0.003667  0.007333  0.007333  0.007333"
      ]
     },
     "execution_count": 2,
     "metadata": {},
     "output_type": "execute_result"
    }
   ],
   "source": [
    "data = pd.read_csv('factor_data.csv')\n",
    "data = data.loc[~(data[['mp1_tc','ff4_tc','ed2_tc','ed3_tc','ed4_tc']]==0).all(axis=1)].dropna().reset_index(drop=True)\n",
    "data.tail()"
   ]
  },
  {
   "cell_type": "code",
   "execution_count": 3,
   "metadata": {},
   "outputs": [
    {
     "data": {
      "text/html": [
       "<div>\n",
       "<style>\n",
       "    .dataframe thead tr:only-child th {\n",
       "        text-align: right;\n",
       "    }\n",
       "\n",
       "    .dataframe thead th {\n",
       "        text-align: left;\n",
       "    }\n",
       "\n",
       "    .dataframe tbody tr th {\n",
       "        vertical-align: top;\n",
       "    }\n",
       "</style>\n",
       "<table border=\"1\" class=\"dataframe\">\n",
       "  <thead>\n",
       "    <tr style=\"text-align: right;\">\n",
       "      <th></th>\n",
       "      <th>year</th>\n",
       "      <th>month</th>\n",
       "      <th>mp1_tc</th>\n",
       "      <th>ff4_tc</th>\n",
       "      <th>ed2_tc</th>\n",
       "      <th>ed3_tc</th>\n",
       "      <th>ed4_tc</th>\n",
       "    </tr>\n",
       "  </thead>\n",
       "  <tbody>\n",
       "    <tr>\n",
       "      <th>count</th>\n",
       "      <td>267.000000</td>\n",
       "      <td>267.000000</td>\n",
       "      <td>267.000000</td>\n",
       "      <td>267.000000</td>\n",
       "      <td>267.000000</td>\n",
       "      <td>267.000000</td>\n",
       "      <td>267.000000</td>\n",
       "    </tr>\n",
       "    <tr>\n",
       "      <th>mean</th>\n",
       "      <td>2000.715356</td>\n",
       "      <td>6.434457</td>\n",
       "      <td>-0.015501</td>\n",
       "      <td>-0.013600</td>\n",
       "      <td>-0.012401</td>\n",
       "      <td>-0.011723</td>\n",
       "      <td>-0.011910</td>\n",
       "    </tr>\n",
       "    <tr>\n",
       "      <th>std</th>\n",
       "      <td>6.446532</td>\n",
       "      <td>3.471475</td>\n",
       "      <td>0.058753</td>\n",
       "      <td>0.048675</td>\n",
       "      <td>0.049646</td>\n",
       "      <td>0.051313</td>\n",
       "      <td>0.050781</td>\n",
       "    </tr>\n",
       "    <tr>\n",
       "      <th>min</th>\n",
       "      <td>1990.000000</td>\n",
       "      <td>1.000000</td>\n",
       "      <td>-0.422587</td>\n",
       "      <td>-0.290322</td>\n",
       "      <td>-0.255366</td>\n",
       "      <td>-0.275290</td>\n",
       "      <td>-0.251984</td>\n",
       "    </tr>\n",
       "    <tr>\n",
       "      <th>25%</th>\n",
       "      <td>1995.000000</td>\n",
       "      <td>3.000000</td>\n",
       "      <td>-0.015782</td>\n",
       "      <td>-0.010984</td>\n",
       "      <td>-0.018226</td>\n",
       "      <td>-0.022903</td>\n",
       "      <td>-0.028387</td>\n",
       "    </tr>\n",
       "    <tr>\n",
       "      <th>50%</th>\n",
       "      <td>2001.000000</td>\n",
       "      <td>6.000000</td>\n",
       "      <td>0.000000</td>\n",
       "      <td>-0.001129</td>\n",
       "      <td>-0.001500</td>\n",
       "      <td>-0.001000</td>\n",
       "      <td>-0.003237</td>\n",
       "    </tr>\n",
       "    <tr>\n",
       "      <th>75%</th>\n",
       "      <td>2006.000000</td>\n",
       "      <td>9.000000</td>\n",
       "      <td>0.004511</td>\n",
       "      <td>0.003688</td>\n",
       "      <td>0.008479</td>\n",
       "      <td>0.009113</td>\n",
       "      <td>0.009540</td>\n",
       "    </tr>\n",
       "    <tr>\n",
       "      <th>max</th>\n",
       "      <td>2012.000000</td>\n",
       "      <td>12.000000</td>\n",
       "      <td>0.145830</td>\n",
       "      <td>0.092193</td>\n",
       "      <td>0.133929</td>\n",
       "      <td>0.161129</td>\n",
       "      <td>0.213387</td>\n",
       "    </tr>\n",
       "  </tbody>\n",
       "</table>\n",
       "</div>"
      ],
      "text/plain": [
       "              year       month      mp1_tc      ff4_tc      ed2_tc  \\\n",
       "count   267.000000  267.000000  267.000000  267.000000  267.000000   \n",
       "mean   2000.715356    6.434457   -0.015501   -0.013600   -0.012401   \n",
       "std       6.446532    3.471475    0.058753    0.048675    0.049646   \n",
       "min    1990.000000    1.000000   -0.422587   -0.290322   -0.255366   \n",
       "25%    1995.000000    3.000000   -0.015782   -0.010984   -0.018226   \n",
       "50%    2001.000000    6.000000    0.000000   -0.001129   -0.001500   \n",
       "75%    2006.000000    9.000000    0.004511    0.003688    0.008479   \n",
       "max    2012.000000   12.000000    0.145830    0.092193    0.133929   \n",
       "\n",
       "           ed3_tc      ed4_tc  \n",
       "count  267.000000  267.000000  \n",
       "mean    -0.011723   -0.011910  \n",
       "std      0.051313    0.050781  \n",
       "min     -0.275290   -0.251984  \n",
       "25%     -0.022903   -0.028387  \n",
       "50%     -0.001000   -0.003237  \n",
       "75%      0.009113    0.009540  \n",
       "max      0.161129    0.213387  "
      ]
     },
     "execution_count": 3,
     "metadata": {},
     "output_type": "execute_result"
    }
   ],
   "source": [
    "data.describe()"
   ]
  },
  {
   "cell_type": "code",
   "execution_count": 4,
   "metadata": {},
   "outputs": [
    {
     "data": {
      "text/html": [
       "<div>\n",
       "<style>\n",
       "    .dataframe thead tr:only-child th {\n",
       "        text-align: right;\n",
       "    }\n",
       "\n",
       "    .dataframe thead th {\n",
       "        text-align: left;\n",
       "    }\n",
       "\n",
       "    .dataframe tbody tr th {\n",
       "        vertical-align: top;\n",
       "    }\n",
       "</style>\n",
       "<table border=\"1\" class=\"dataframe\">\n",
       "  <thead>\n",
       "    <tr style=\"text-align: right;\">\n",
       "      <th></th>\n",
       "      <th>mp1_tc</th>\n",
       "      <th>ff4_tc</th>\n",
       "      <th>ed2_tc</th>\n",
       "      <th>ed3_tc</th>\n",
       "      <th>ed4_tc</th>\n",
       "    </tr>\n",
       "  </thead>\n",
       "  <tbody>\n",
       "    <tr>\n",
       "      <th>mp1_tc</th>\n",
       "      <td>1.00</td>\n",
       "      <td>0.81</td>\n",
       "      <td>0.74</td>\n",
       "      <td>0.64</td>\n",
       "      <td>0.54</td>\n",
       "    </tr>\n",
       "    <tr>\n",
       "      <th>ff4_tc</th>\n",
       "      <td>0.81</td>\n",
       "      <td>1.00</td>\n",
       "      <td>0.81</td>\n",
       "      <td>0.74</td>\n",
       "      <td>0.65</td>\n",
       "    </tr>\n",
       "    <tr>\n",
       "      <th>ed2_tc</th>\n",
       "      <td>0.74</td>\n",
       "      <td>0.81</td>\n",
       "      <td>1.00</td>\n",
       "      <td>0.96</td>\n",
       "      <td>0.90</td>\n",
       "    </tr>\n",
       "    <tr>\n",
       "      <th>ed3_tc</th>\n",
       "      <td>0.64</td>\n",
       "      <td>0.74</td>\n",
       "      <td>0.96</td>\n",
       "      <td>1.00</td>\n",
       "      <td>0.97</td>\n",
       "    </tr>\n",
       "    <tr>\n",
       "      <th>ed4_tc</th>\n",
       "      <td>0.54</td>\n",
       "      <td>0.65</td>\n",
       "      <td>0.90</td>\n",
       "      <td>0.97</td>\n",
       "      <td>1.00</td>\n",
       "    </tr>\n",
       "  </tbody>\n",
       "</table>\n",
       "</div>"
      ],
      "text/plain": [
       "        mp1_tc  ff4_tc  ed2_tc  ed3_tc  ed4_tc\n",
       "mp1_tc    1.00    0.81    0.74    0.64    0.54\n",
       "ff4_tc    0.81    1.00    0.81    0.74    0.65\n",
       "ed2_tc    0.74    0.81    1.00    0.96    0.90\n",
       "ed3_tc    0.64    0.74    0.96    1.00    0.97\n",
       "ed4_tc    0.54    0.65    0.90    0.97    1.00"
      ]
     },
     "execution_count": 4,
     "metadata": {},
     "output_type": "execute_result"
    }
   ],
   "source": [
    "data[['mp1_tc','ff4_tc','ed2_tc','ed3_tc','ed4_tc']].corr().round(2)"
   ]
  },
  {
   "cell_type": "markdown",
   "metadata": {},
   "source": [
    "## Number 2"
   ]
  },
  {
   "cell_type": "markdown",
   "metadata": {},
   "source": [
    "#### We will apply principal components analysis (without using a built-in package). First center and normalize each column so that each column has zero mean and unit variance."
   ]
  },
  {
   "cell_type": "code",
   "execution_count": 91,
   "metadata": {
    "scrolled": true
   },
   "outputs": [
    {
     "data": {
      "text/html": [
       "<div>\n",
       "<style>\n",
       "    .dataframe thead tr:only-child th {\n",
       "        text-align: right;\n",
       "    }\n",
       "\n",
       "    .dataframe thead th {\n",
       "        text-align: left;\n",
       "    }\n",
       "\n",
       "    .dataframe tbody tr th {\n",
       "        vertical-align: top;\n",
       "    }\n",
       "</style>\n",
       "<table border=\"1\" class=\"dataframe\">\n",
       "  <thead>\n",
       "    <tr style=\"text-align: right;\">\n",
       "      <th></th>\n",
       "      <th>mp1_tc</th>\n",
       "      <th>ff4_tc</th>\n",
       "      <th>ed2_tc</th>\n",
       "      <th>ed3_tc</th>\n",
       "      <th>ed4_tc</th>\n",
       "    </tr>\n",
       "  </thead>\n",
       "  <tbody>\n",
       "    <tr>\n",
       "      <th>count</th>\n",
       "      <td>267.000</td>\n",
       "      <td>267.000</td>\n",
       "      <td>267.000</td>\n",
       "      <td>267.000</td>\n",
       "      <td>267.000</td>\n",
       "    </tr>\n",
       "    <tr>\n",
       "      <th>mean</th>\n",
       "      <td>-0.000</td>\n",
       "      <td>0.000</td>\n",
       "      <td>0.000</td>\n",
       "      <td>0.000</td>\n",
       "      <td>0.000</td>\n",
       "    </tr>\n",
       "    <tr>\n",
       "      <th>std</th>\n",
       "      <td>1.002</td>\n",
       "      <td>1.002</td>\n",
       "      <td>1.002</td>\n",
       "      <td>1.002</td>\n",
       "      <td>1.002</td>\n",
       "    </tr>\n",
       "    <tr>\n",
       "      <th>min</th>\n",
       "      <td>-6.942</td>\n",
       "      <td>-5.696</td>\n",
       "      <td>-4.903</td>\n",
       "      <td>-5.146</td>\n",
       "      <td>-4.737</td>\n",
       "    </tr>\n",
       "    <tr>\n",
       "      <th>25%</th>\n",
       "      <td>-0.005</td>\n",
       "      <td>0.054</td>\n",
       "      <td>-0.118</td>\n",
       "      <td>-0.218</td>\n",
       "      <td>-0.325</td>\n",
       "    </tr>\n",
       "    <tr>\n",
       "      <th>50%</th>\n",
       "      <td>0.264</td>\n",
       "      <td>0.257</td>\n",
       "      <td>0.220</td>\n",
       "      <td>0.209</td>\n",
       "      <td>0.171</td>\n",
       "    </tr>\n",
       "    <tr>\n",
       "      <th>75%</th>\n",
       "      <td>0.341</td>\n",
       "      <td>0.356</td>\n",
       "      <td>0.421</td>\n",
       "      <td>0.407</td>\n",
       "      <td>0.423</td>\n",
       "    </tr>\n",
       "    <tr>\n",
       "      <th>max</th>\n",
       "      <td>2.751</td>\n",
       "      <td>2.178</td>\n",
       "      <td>2.953</td>\n",
       "      <td>3.375</td>\n",
       "      <td>4.445</td>\n",
       "    </tr>\n",
       "  </tbody>\n",
       "</table>\n",
       "</div>"
      ],
      "text/plain": [
       "        mp1_tc   ff4_tc   ed2_tc   ed3_tc   ed4_tc\n",
       "count  267.000  267.000  267.000  267.000  267.000\n",
       "mean    -0.000    0.000    0.000    0.000    0.000\n",
       "std      1.002    1.002    1.002    1.002    1.002\n",
       "min     -6.942   -5.696   -4.903   -5.146   -4.737\n",
       "25%     -0.005    0.054   -0.118   -0.218   -0.325\n",
       "50%      0.264    0.257    0.220    0.209    0.171\n",
       "75%      0.341    0.356    0.421    0.407    0.423\n",
       "max      2.751    2.178    2.953    3.375    4.445"
      ]
     },
     "execution_count": 91,
     "metadata": {},
     "output_type": "execute_result"
    }
   ],
   "source": [
    "X = data[['mp1_tc','ff4_tc','ed2_tc','ed3_tc','ed4_tc']].copy()\n",
    "X = pd.DataFrame(StandardScaler().fit_transform(X))\n",
    "X.columns = ['mp1_tc','ff4_tc','ed2_tc','ed3_tc','ed4_tc']\n",
    "X.describe().round(3)"
   ]
  },
  {
   "cell_type": "markdown",
   "metadata": {},
   "source": [
    "#### And the eigenpairs of $X'X$ are"
   ]
  },
  {
   "cell_type": "code",
   "execution_count": 92,
   "metadata": {},
   "outputs": [
    {
     "name": "stdout",
     "output_type": "stream",
     "text": [
      "The eigenvalues are\n",
      " [ 1100.53709875   168.87223008    46.53465745    15.69727248     3.35874125]\n",
      "and the eigenvectors are \n",
      " [[ 0.40066132  0.65349036  0.61717299 -0.17629405 -0.0209464 ]\n",
      " [ 0.4339722   0.42992623 -0.77831614 -0.14508527  0.00241074]\n",
      " [ 0.48084705 -0.13260004  0.05671399  0.74831789  0.43359797]\n",
      " [ 0.47185891 -0.33973923  0.05442712  0.09930073 -0.80566958]\n",
      " [ 0.44415528 -0.50508243  0.08451447 -0.61484174  0.40304437]]\n"
     ]
    }
   ],
   "source": [
    "XTX = np.dot(X.T,X)\n",
    "\n",
    "eigenvalues, eigenvectors = np.linalg.eig(XTX)\n",
    "# So apparenlty eigh gives it in a different order than eig!\n",
    "#eigenvalues = np.flip(eigenvalues,0) #Python gave them in smallest to largest so we flip them\n",
    "#eigenvectors = np.flip(eigenvectors,1)\n",
    "\n",
    "print('The eigenvalues are\\n %s\\nand the eigenvectors are \\n %s' % (eigenvalues,eigenvectors))"
   ]
  },
  {
   "cell_type": "markdown",
   "metadata": {},
   "source": [
    " #### The first three principal components explain 82.44% + 12.65% + 3.49% = 98.58% of the variation and follow the levels, steepness and curvature of Litterman and Scheinkman (1991)."
   ]
  },
  {
   "cell_type": "code",
   "execution_count": 33,
   "metadata": {
    "scrolled": false
   },
   "outputs": [
    {
     "data": {
      "image/png": "[encoded data removed]",
      "text/plain": [
       "<matplotlib.figure.Figure at 0x1c1b1b3978>"
      ]
     },
     "metadata": {},
     "output_type": "display_data"
    }
   ],
   "source": [
    "eigenvalues_percent = eigenvalues/sum(eigenvalues)*100\n",
    "\n",
    "plt.figure(figsize=(12,6))\n",
    "\n",
    "PC_labels = ['First PC','Second PC','Third PC','Fourth PC','Fifth PC']\n",
    "ax = sns.barplot(PC_labels,eigenvalues_percent)\n",
    "\n",
    "for i in range(len(eigenvalues_percent)):\n",
    "    variation = eigenvalues_percent[i]\n",
    "    height = ax.patches[i].get_height()\n",
    "    ax.text(ax.patches[i].get_x()+ax.patches[i].get_width()/2.,\n",
    "            height+3, \n",
    "            '{:1.2f}'.format(eigenvalues_percent[i]),\n",
    "            ha='center')\n",
    "\n",
    "plt.xlabel('PC')\n",
    "plt.ylabel('Percent of Variation')\n",
    "plt.ylim(0,100)\n",
    "plt.title('Skree Plot')\n",
    "plt.show()"
   ]
  },
  {
   "cell_type": "code",
   "execution_count": 35,
   "metadata": {
    "collapsed": true
   },
   "outputs": [],
   "source": [
    "eigenvectors = pd.DataFrame(eigenvectors)\n",
    "#eigenvectors[0] = -1*eigenvectors[0] make it positive for intepretation and visualization"
   ]
  },
  {
   "cell_type": "code",
   "execution_count": 36,
   "metadata": {},
   "outputs": [
    {
     "data": {
      "image/png": "[encoded data removed]",
      "text/plain": [
       "<matplotlib.figure.Figure at 0x1c1b1adfd0>"
      ]
     },
     "metadata": {},
     "output_type": "display_data"
    }
   ],
   "source": [
    "ax = eigenvectors[[0,1,2]].plot(figsize=(12,6))\n",
    "ax.set_xticks(range(len(X.columns)))\n",
    "ax.set_xticklabels(X.columns)\n",
    "\n",
    "lines, labels = ax.get_legend_handles_labels()\n",
    "labels = ['First PC', 'Second PC', 'Third PC']\n",
    "ax.legend(lines, labels, loc='best')\n",
    "\n",
    "plt.title('Factor Loadings')\n",
    "plt.xlabel('Covariates')\n",
    "plt.ylabel('Weight')\n",
    "plt.show()"
   ]
  },
  {
   "cell_type": "markdown",
   "metadata": {},
   "source": [
    "#### And then plotting the first three principal components over time."
   ]
  },
  {
   "cell_type": "code",
   "execution_count": 37,
   "metadata": {
    "scrolled": false
   },
   "outputs": [
    {
     "data": {
      "text/html": [
       "<div>\n",
       "<style>\n",
       "    .dataframe thead tr:only-child th {\n",
       "        text-align: right;\n",
       "    }\n",
       "\n",
       "    .dataframe thead th {\n",
       "        text-align: left;\n",
       "    }\n",
       "\n",
       "    .dataframe tbody tr th {\n",
       "        vertical-align: top;\n",
       "    }\n",
       "</style>\n",
       "<table border=\"1\" class=\"dataframe\">\n",
       "  <thead>\n",
       "    <tr style=\"text-align: right;\">\n",
       "      <th></th>\n",
       "      <th>PC 1</th>\n",
       "      <th>PC 2</th>\n",
       "      <th>PC 3</th>\n",
       "    </tr>\n",
       "  </thead>\n",
       "  <tbody>\n",
       "    <tr>\n",
       "      <th>262</th>\n",
       "      <td>0.516792</td>\n",
       "      <td>0.120128</td>\n",
       "      <td>-0.010617</td>\n",
       "    </tr>\n",
       "    <tr>\n",
       "      <th>263</th>\n",
       "      <td>0.005194</td>\n",
       "      <td>0.449805</td>\n",
       "      <td>-0.128018</td>\n",
       "    </tr>\n",
       "    <tr>\n",
       "      <th>264</th>\n",
       "      <td>0.781944</td>\n",
       "      <td>-0.127873</td>\n",
       "      <td>0.025479</td>\n",
       "    </tr>\n",
       "    <tr>\n",
       "      <th>265</th>\n",
       "      <td>0.700208</td>\n",
       "      <td>-0.057381</td>\n",
       "      <td>0.013057</td>\n",
       "    </tr>\n",
       "    <tr>\n",
       "      <th>266</th>\n",
       "      <td>0.814640</td>\n",
       "      <td>-0.014749</td>\n",
       "      <td>-0.009583</td>\n",
       "    </tr>\n",
       "  </tbody>\n",
       "</table>\n",
       "</div>"
      ],
      "text/plain": [
       "         PC 1      PC 2      PC 3\n",
       "262  0.516792  0.120128 -0.010617\n",
       "263  0.005194  0.449805 -0.128018\n",
       "264  0.781944 -0.127873  0.025479\n",
       "265  0.700208 -0.057381  0.013057\n",
       "266  0.814640 -0.014749 -0.009583"
      ]
     },
     "execution_count": 37,
     "metadata": {},
     "output_type": "execute_result"
    }
   ],
   "source": [
    "principal_components = pd.DataFrame(np.dot(X,eigenvectors[0]))\n",
    "principal_components.columns = ['PC 1']\n",
    "principal_components['PC 2'] = pd.DataFrame(np.dot(X,eigenvectors[1]))\n",
    "principal_components['PC 3'] = pd.DataFrame(np.dot(X,eigenvectors[2]))\n",
    "#principal_components['PC 4'] = pd.DataFrame(np.dot(X,eigenvectors[3]))\n",
    "#principal_components['PC 5'] = pd.DataFrame(np.dot(X,eigenvectors[4]))\n",
    "principal_components.tail()"
   ]
  },
  {
   "cell_type": "code",
   "execution_count": 38,
   "metadata": {
    "scrolled": false
   },
   "outputs": [
    {
     "data": {
      "image/png": "[encoded data removed]",
      "text/plain": [
       "<matplotlib.figure.Figure at 0x1c1ac73f28>"
      ]
     },
     "metadata": {},
     "output_type": "display_data"
    }
   ],
   "source": [
    "ax = principal_components.plot(figsize=(16,6))\n",
    "lines, labels = ax.get_legend_handles_labels()\n",
    "labels = principal_components.columns\n",
    "ax.legend(lines, labels, loc='best')\n",
    "plt.title('First Three Principal Components')\n",
    "plt.xlabel('Months')\n",
    "plt.show()"
   ]
  },
  {
   "cell_type": "markdown",
   "metadata": {},
   "source": [
    "#### And the regression of $mp1$ on the first three principal components has great fit!"
   ]
  },
  {
   "cell_type": "code",
   "execution_count": 39,
   "metadata": {},
   "outputs": [
    {
     "name": "stdout",
     "output_type": "stream",
     "text": [
      "                            OLS Regression Results                            \n",
      "==============================================================================\n",
      "Dep. Variable:                 mp1_tc   R-squared:                       0.998\n",
      "Model:                            OLS   Adj. R-squared:                  0.998\n",
      "Method:                 Least Squares   F-statistic:                 4.793e+04\n",
      "Date:                Mon, 04 Dec 2017   Prob (F-statistic):               0.00\n",
      "Time:                        10:23:48   Log-Likelihood:                 462.45\n",
      "No. Observations:                 267   AIC:                            -918.9\n",
      "Df Residuals:                     264   BIC:                            -908.1\n",
      "Df Model:                           3                                         \n",
      "Covariance Type:            nonrobust                                         \n",
      "==============================================================================\n",
      "                 coef    std err          t      P>|t|      [0.025      0.975]\n",
      "------------------------------------------------------------------------------\n",
      "PC 1           0.4007      0.001    308.729      0.000       0.398       0.403\n",
      "PC 2           0.6535      0.003    197.249      0.000       0.647       0.660\n",
      "PC 3           0.6172      0.006     97.790      0.000       0.605       0.630\n",
      "==============================================================================\n",
      "Omnibus:                       94.500   Durbin-Watson:                   1.506\n",
      "Prob(Omnibus):                  0.000   Jarque-Bera (JB):             1236.478\n",
      "Skew:                          -1.007   Prob(JB):                    3.18e-269\n",
      "Kurtosis:                      13.349   Cond. No.                         4.86\n",
      "==============================================================================\n",
      "\n",
      "Warnings:\n",
      "[1] Standard Errors assume that the covariance matrix of the errors is correctly specified.\n"
     ]
    }
   ],
   "source": [
    "reg1 = sm.OLS(endog=X['mp1_tc'], exog=principal_components, missing='drop')\n",
    "results = reg1.fit()\n",
    "print(results.summary())"
   ]
  },
  {
   "cell_type": "markdown",
   "metadata": {},
   "source": [
    "## Number 3"
   ]
  },
  {
   "cell_type": "markdown",
   "metadata": {},
   "source": [
    "#### Now we follow Gurkaynak, Sack and Swanson (2004) and use the first two principal components as the two factors $F_1$ and $F_2$. Let $$F=[F_1 \\ F_1]$$ so that $F_1$ and $F_2$ are in $\\mathbb{R}^{267}$ and form the columns of $F$ so $F$ is $267\\times 2$. "
   ]
  },
  {
   "cell_type": "code",
   "execution_count": 40,
   "metadata": {},
   "outputs": [
    {
     "data": {
      "text/html": [
       "<div>\n",
       "<style>\n",
       "    .dataframe thead tr:only-child th {\n",
       "        text-align: right;\n",
       "    }\n",
       "\n",
       "    .dataframe thead th {\n",
       "        text-align: left;\n",
       "    }\n",
       "\n",
       "    .dataframe tbody tr th {\n",
       "        vertical-align: top;\n",
       "    }\n",
       "</style>\n",
       "<table border=\"1\" class=\"dataframe\">\n",
       "  <thead>\n",
       "    <tr style=\"text-align: right;\">\n",
       "      <th></th>\n",
       "      <th>F1</th>\n",
       "      <th>F2</th>\n",
       "    </tr>\n",
       "  </thead>\n",
       "  <tbody>\n",
       "    <tr>\n",
       "      <th>262</th>\n",
       "      <td>0.516792</td>\n",
       "      <td>0.120128</td>\n",
       "    </tr>\n",
       "    <tr>\n",
       "      <th>263</th>\n",
       "      <td>0.005194</td>\n",
       "      <td>0.449805</td>\n",
       "    </tr>\n",
       "    <tr>\n",
       "      <th>264</th>\n",
       "      <td>0.781944</td>\n",
       "      <td>-0.127873</td>\n",
       "    </tr>\n",
       "    <tr>\n",
       "      <th>265</th>\n",
       "      <td>0.700208</td>\n",
       "      <td>-0.057381</td>\n",
       "    </tr>\n",
       "    <tr>\n",
       "      <th>266</th>\n",
       "      <td>0.814640</td>\n",
       "      <td>-0.014749</td>\n",
       "    </tr>\n",
       "  </tbody>\n",
       "</table>\n",
       "</div>"
      ],
      "text/plain": [
       "           F1        F2\n",
       "262  0.516792  0.120128\n",
       "263  0.005194  0.449805\n",
       "264  0.781944 -0.127873\n",
       "265  0.700208 -0.057381\n",
       "266  0.814640 -0.014749"
      ]
     },
     "execution_count": 40,
     "metadata": {},
     "output_type": "execute_result"
    }
   ],
   "source": [
    "F = principal_components[['PC 1', 'PC 2']].copy()\n",
    "F.columns = ['F1','F2']\n",
    "F.tail()"
   ]
  },
  {
   "cell_type": "markdown",
   "metadata": {},
   "source": [
    "#### Then first we normalize each of them to have unit variance."
   ]
  },
  {
   "cell_type": "code",
   "execution_count": 41,
   "metadata": {},
   "outputs": [
    {
     "data": {
      "text/html": [
       "<div>\n",
       "<style>\n",
       "    .dataframe thead tr:only-child th {\n",
       "        text-align: right;\n",
       "    }\n",
       "\n",
       "    .dataframe thead th {\n",
       "        text-align: left;\n",
       "    }\n",
       "\n",
       "    .dataframe tbody tr th {\n",
       "        vertical-align: top;\n",
       "    }\n",
       "</style>\n",
       "<table border=\"1\" class=\"dataframe\">\n",
       "  <thead>\n",
       "    <tr style=\"text-align: right;\">\n",
       "      <th></th>\n",
       "      <th>F1</th>\n",
       "      <th>F2</th>\n",
       "    </tr>\n",
       "  </thead>\n",
       "  <tbody>\n",
       "    <tr>\n",
       "      <th>count</th>\n",
       "      <td>267.00</td>\n",
       "      <td>267.00</td>\n",
       "    </tr>\n",
       "    <tr>\n",
       "      <th>mean</th>\n",
       "      <td>0.00</td>\n",
       "      <td>0.00</td>\n",
       "    </tr>\n",
       "    <tr>\n",
       "      <th>std</th>\n",
       "      <td>1.00</td>\n",
       "      <td>1.00</td>\n",
       "    </tr>\n",
       "    <tr>\n",
       "      <th>min</th>\n",
       "      <td>-5.55</td>\n",
       "      <td>-5.52</td>\n",
       "    </tr>\n",
       "    <tr>\n",
       "      <th>25%</th>\n",
       "      <td>-0.16</td>\n",
       "      <td>-0.35</td>\n",
       "    </tr>\n",
       "    <tr>\n",
       "      <th>50%</th>\n",
       "      <td>0.22</td>\n",
       "      <td>0.07</td>\n",
       "    </tr>\n",
       "    <tr>\n",
       "      <th>75%</th>\n",
       "      <td>0.42</td>\n",
       "      <td>0.47</td>\n",
       "    </tr>\n",
       "    <tr>\n",
       "      <th>max</th>\n",
       "      <td>2.59</td>\n",
       "      <td>2.70</td>\n",
       "    </tr>\n",
       "  </tbody>\n",
       "</table>\n",
       "</div>"
      ],
      "text/plain": [
       "           F1      F2\n",
       "count  267.00  267.00\n",
       "mean     0.00    0.00\n",
       "std      1.00    1.00\n",
       "min     -5.55   -5.52\n",
       "25%     -0.16   -0.35\n",
       "50%      0.22    0.07\n",
       "75%      0.42    0.47\n",
       "max      2.59    2.70"
      ]
     },
     "execution_count": 41,
     "metadata": {},
     "output_type": "execute_result"
    }
   ],
   "source": [
    "F = pd.DataFrame(StandardScaler().fit_transform(F))\n",
    "F.columns = ['F1', 'F2']\n",
    "F.describe().round(2)"
   ]
  },
  {
   "cell_type": "markdown",
   "metadata": {},
   "source": [
    "#### As mentioned in GSS section 3.2, the two principal components are correlated with $mp_1$, the surpises in the current fed funds target."
   ]
  },
  {
   "cell_type": "code",
   "execution_count": 42,
   "metadata": {},
   "outputs": [
    {
     "data": {
      "text/html": [
       "<div>\n",
       "<style>\n",
       "    .dataframe thead tr:only-child th {\n",
       "        text-align: right;\n",
       "    }\n",
       "\n",
       "    .dataframe thead th {\n",
       "        text-align: left;\n",
       "    }\n",
       "\n",
       "    .dataframe tbody tr th {\n",
       "        vertical-align: top;\n",
       "    }\n",
       "</style>\n",
       "<table border=\"1\" class=\"dataframe\">\n",
       "  <thead>\n",
       "    <tr style=\"text-align: right;\">\n",
       "      <th></th>\n",
       "      <th>mp1_tc</th>\n",
       "      <th>F1</th>\n",
       "      <th>F2</th>\n",
       "    </tr>\n",
       "  </thead>\n",
       "  <tbody>\n",
       "    <tr>\n",
       "      <th>mp1_tc</th>\n",
       "      <td>1.00</td>\n",
       "      <td>0.81</td>\n",
       "      <td>0.52</td>\n",
       "    </tr>\n",
       "    <tr>\n",
       "      <th>F1</th>\n",
       "      <td>0.81</td>\n",
       "      <td>1.00</td>\n",
       "      <td>0.00</td>\n",
       "    </tr>\n",
       "    <tr>\n",
       "      <th>F2</th>\n",
       "      <td>0.52</td>\n",
       "      <td>0.00</td>\n",
       "      <td>1.00</td>\n",
       "    </tr>\n",
       "  </tbody>\n",
       "</table>\n",
       "</div>"
      ],
      "text/plain": [
       "        mp1_tc    F1    F2\n",
       "mp1_tc    1.00  0.81  0.52\n",
       "F1        0.81  1.00  0.00\n",
       "F2        0.52  0.00  1.00"
      ]
     },
     "execution_count": 42,
     "metadata": {},
     "output_type": "execute_result"
    }
   ],
   "source": [
    "pd.concat([X['mp1_tc'], F], axis=1).corr().round(2)"
   ]
  },
  {
   "cell_type": "markdown",
   "metadata": {},
   "source": [
    "#### So to structurize the two factors, we rotate them by forming $267\\times 2$ matrix Z $$ Z=[Z_1 \\ Z_2] = FU$$ where $Z_1$ and $Z_2$ correspond to the rotated factors, and where $U$ is a $2\\times 2$ solved by:\n"
   ]
  },
  {
   "cell_type": "code",
   "execution_count": 44,
   "metadata": {},
   "outputs": [
    {
     "name": "stdout",
     "output_type": "stream",
     "text": [
      "U = [[ 0.52269005  0.85252279]\n",
      " [ 0.85252279 -0.52269005]]\n"
     ]
    }
   ],
   "source": [
    "gamma1 = eigenvectors[0][0]\n",
    "gamma2 = eigenvectors[1][0]\n",
    "\n",
    "alpha1 = 1.0*gamma1/math.sqrt(gamma1**2.0 + gamma2**2.0)\n",
    "alpha2 = 1.0*gamma2/math.sqrt(gamma1**2.0 + gamma2**2.0)\n",
    "\n",
    "beta1 = 1.0*math.sqrt(gamma2**2.0 / (gamma1**2.0 + gamma2**2.0))\n",
    "beta2 = -1.0*gamma1*math.sqrt(gamma2**2/(gamma1**2.0 + gamma2**2.0))/gamma2\n",
    "\n",
    "U = np.array([[alpha1, beta1],[alpha2, beta2]])\n",
    "print('U = %s'%U)"
   ]
  },
  {
   "cell_type": "markdown",
   "metadata": {},
   "source": [
    "#### We have data $X$ and let $V$ be the matrix where it's two columns are the first two eigenvectors of $X'X$. Then for the rotated factors $Z = (Z_1, Z_2)$ and first two principal components $F=XV$, we have that\n",
    "\n",
    "$$Z=FV=XVU$$ \n",
    "\n",
    "#### and the scaled eigenvectors are $VU$."
   ]
  },
  {
   "cell_type": "code",
   "execution_count": 86,
   "metadata": {
    "collapsed": true,
    "scrolled": false
   },
   "outputs": [],
   "source": [
    "VU = pd.DataFrame(np.dot(eigenvectors[[0,1]],U))\n",
    "Z = pd.DataFrame(np.dot(X,VU))*np.dot(eigenvectors[[0,1]],U)[0,0]\n",
    "Z.columns=['Z1','Z2']"
   ]
  },
  {
   "cell_type": "markdown",
   "metadata": {},
   "source": [
    "#### The columns of $U$ have unit length\n",
    "$$\\begin{align*}\n",
    "\\sqrt{\\alpha_1 ^2 + \\alpha_2^2} = 1\n",
    "\\\\\\sqrt{\\beta_1 ^2 + \\beta_2^2} = 1\n",
    "\\end{align*}$$"
   ]
  },
  {
   "cell_type": "code",
   "execution_count": 46,
   "metadata": {},
   "outputs": [
    {
     "name": "stdout",
     "output_type": "stream",
     "text": [
      "1.0\n",
      "1.0\n"
     ]
    }
   ],
   "source": [
    "print(np.linalg.norm(U[:,0]))\n",
    "print(np.linalg.norm(U[:,1]))"
   ]
  },
  {
   "cell_type": "markdown",
   "metadata": {},
   "source": [
    "#### $Z_1$ and $Z_2$ are orthogonal to each other\n",
    "\n",
    "$$ \\text{E} (Z_1 Z_2) = \\alpha_1 \\beta_1 + \\alpha_2\\beta_2=0$$"
   ]
  },
  {
   "cell_type": "code",
   "execution_count": 73,
   "metadata": {},
   "outputs": [
    {
     "name": "stdout",
     "output_type": "stream",
     "text": [
      "0.0\n"
     ]
    }
   ],
   "source": [
    "print((alpha1*beta1 + alpha2*beta2).round(2))"
   ]
  },
  {
   "cell_type": "code",
   "execution_count": 74,
   "metadata": {},
   "outputs": [
    {
     "data": {
      "text/html": [
       "<div>\n",
       "<style>\n",
       "    .dataframe thead tr:only-child th {\n",
       "        text-align: right;\n",
       "    }\n",
       "\n",
       "    .dataframe thead th {\n",
       "        text-align: left;\n",
       "    }\n",
       "\n",
       "    .dataframe tbody tr th {\n",
       "        vertical-align: top;\n",
       "    }\n",
       "</style>\n",
       "<table border=\"1\" class=\"dataframe\">\n",
       "  <thead>\n",
       "    <tr style=\"text-align: right;\">\n",
       "      <th></th>\n",
       "      <th>0</th>\n",
       "      <th>1</th>\n",
       "    </tr>\n",
       "  </thead>\n",
       "  <tbody>\n",
       "    <tr>\n",
       "      <th>0</th>\n",
       "      <td>1.0</td>\n",
       "      <td>0.0</td>\n",
       "    </tr>\n",
       "    <tr>\n",
       "      <th>1</th>\n",
       "      <td>0.0</td>\n",
       "      <td>1.0</td>\n",
       "    </tr>\n",
       "  </tbody>\n",
       "</table>\n",
       "</div>"
      ],
      "text/plain": [
       "     0    1\n",
       "0  1.0  0.0\n",
       "1  0.0  1.0"
      ]
     },
     "execution_count": 74,
     "metadata": {},
     "output_type": "execute_result"
    }
   ],
   "source": [
    "Z.cov().round(2)"
   ]
  },
  {
   "cell_type": "markdown",
   "metadata": {},
   "source": [
    "#### And $Z_2$ does not influence the current policy suprise $mp1$ $$\\gamma_2 \\alpha_1 - \\gamma_1 \\alpha_2 =0.$$"
   ]
  },
  {
   "cell_type": "code",
   "execution_count": 49,
   "metadata": {},
   "outputs": [
    {
     "name": "stdout",
     "output_type": "stream",
     "text": [
      "0.0\n"
     ]
    }
   ],
   "source": [
    "print(gamma2*alpha1-gamma1*alpha2)"
   ]
  },
  {
   "cell_type": "markdown",
   "metadata": {},
   "source": [
    "#### $Z_1$ and $Z_2$ are normalized so the first factor moves 1-1 with mp1_tc and the second factor does not influence mp1_tc."
   ]
  },
  {
   "cell_type": "code",
   "execution_count": 50,
   "metadata": {
    "collapsed": true
   },
   "outputs": [],
   "source": [
    "Z_reg = Z.copy()\n",
    "Z_reg['const'] = 1"
   ]
  },
  {
   "cell_type": "code",
   "execution_count": 51,
   "metadata": {
    "scrolled": false
   },
   "outputs": [
    {
     "name": "stdout",
     "output_type": "stream",
     "text": [
      "                            OLS Regression Results                            \n",
      "==============================================================================\n",
      "Dep. Variable:                 mp1_tc   R-squared:                       0.932\n",
      "Model:                            OLS   Adj. R-squared:                  0.931\n",
      "Method:                 Least Squares   F-statistic:                     1803.\n",
      "Date:                Mon, 04 Dec 2017   Prob (F-statistic):          1.19e-154\n",
      "Time:                        10:24:52   Log-Likelihood:                -20.405\n",
      "No. Observations:                 267   AIC:                             46.81\n",
      "Df Residuals:                     264   BIC:                             57.57\n",
      "Df Model:                           2                                         \n",
      "Covariance Type:            nonrobust                                         \n",
      "==============================================================================\n",
      "                 coef    std err          t      P>|t|      [0.025      0.975]\n",
      "------------------------------------------------------------------------------\n",
      "Z1             1.0000      0.023     43.254      0.000       0.954       1.046\n",
      "Z2         -4.852e-16      0.016  -2.97e-14      1.000      -0.032       0.032\n",
      "const       1.537e-17      0.016   9.56e-16      1.000      -0.032       0.032\n",
      "==============================================================================\n",
      "Omnibus:                      214.662   Durbin-Watson:                   1.725\n",
      "Prob(Omnibus):                  0.000   Jarque-Bera (JB):             8318.182\n",
      "Skew:                           2.762   Prob(JB):                         0.00\n",
      "Kurtosis:                      29.780   Cond. No.                         2.55\n",
      "==============================================================================\n",
      "\n",
      "Warnings:\n",
      "[1] Standard Errors assume that the covariance matrix of the errors is correctly specified.\n"
     ]
    }
   ],
   "source": [
    "reg1 = sm.OLS(endog=X['mp1_tc'], exog=Z_reg, missing='drop')\n",
    "results = reg1.fit()\n",
    "print(results.summary())"
   ]
  },
  {
   "cell_type": "code",
   "execution_count": 52,
   "metadata": {},
   "outputs": [
    {
     "data": {
      "image/png": "[encoded data removed]",
      "text/plain": [
       "<matplotlib.figure.Figure at 0x1c1b3492e8>"
      ]
     },
     "metadata": {},
     "output_type": "display_data"
    }
   ],
   "source": [
    "ax = Z.plot(figsize=(16,6))\n",
    "lines, labels = ax.get_legend_handles_labels()\n",
    "labels = ['Target Factor (Rotated)', 'Path Factor (Rotated)']\n",
    "ax.legend(lines, labels, loc='best')\n",
    "plt.title('Rotated and Scaled Target and Path Factors')\n",
    "plt.xlabel('Months')\n",
    "plt.show()"
   ]
  },
  {
   "cell_type": "code",
   "execution_count": 53,
   "metadata": {},
   "outputs": [
    {
     "data": {
      "image/png": "[encoded data removed]",
      "text/plain": [
       "<matplotlib.figure.Figure at 0x1c1b6cb160>"
      ]
     },
     "metadata": {},
     "output_type": "display_data"
    }
   ],
   "source": [
    "ax = VU.plot(figsize=(12,6))\n",
    "ax.set_xticks(range(len(X.columns)))\n",
    "ax.set_xticklabels(X.columns)\n",
    "\n",
    "lines, labels = ax.get_legend_handles_labels()\n",
    "labels = ['Target Factor', 'Path']\n",
    "ax.legend(lines, labels, loc='best')\n",
    "\n",
    "plt.title('Rotated Factor Loadings')\n",
    "plt.xlabel('Covariates')\n",
    "plt.ylabel('Weight')\n",
    "plt.show()"
   ]
  },
  {
   "cell_type": "markdown",
   "metadata": {},
   "source": [
    "#### So it looks like the \"Target\" factor has most weight on mp1, and less and less as the maturies increase, while the \"Path\" factor has zero weight on mp1 but more and more weight as the maturities increase. From this it may be appropriate to call them \"Target\" and \"Path\" factors."
   ]
  },
  {
   "cell_type": "markdown",
   "metadata": {},
   "source": [
    "#### The factors are just rotated so they explain the same amount of variance as the principal components in number 2. But comparing the regressions of each asset on just the Target factor and then on the Target and Path factors shows that the R-squared is much higher once we include the Path factor (which aligns with the GSS paper). As increase in R-squared is associated with longer-dated assets (not that longer since the longest is like a year), it may be appropriate to call it the Target and Path factors."
   ]
  },
  {
   "cell_type": "markdown",
   "metadata": {},
   "source": [
    "#### Regressions with just Target factor"
   ]
  },
  {
   "cell_type": "code",
   "execution_count": 54,
   "metadata": {
    "scrolled": false
   },
   "outputs": [
    {
     "name": "stdout",
     "output_type": "stream",
     "text": [
      "                            OLS Regression Results                            \n",
      "==============================================================================\n",
      "Dep. Variable:                 mp1_tc   R-squared:                       0.932\n",
      "Model:                            OLS   Adj. R-squared:                  0.932\n",
      "Method:                 Least Squares   F-statistic:                     3620.\n",
      "Date:                Mon, 04 Dec 2017   Prob (F-statistic):          1.58e-156\n",
      "Time:                        10:27:08   Log-Likelihood:                -20.405\n",
      "No. Observations:                 267   AIC:                             44.81\n",
      "Df Residuals:                     265   BIC:                             51.98\n",
      "Df Model:                           1                                         \n",
      "Covariance Type:            nonrobust                                         \n",
      "==============================================================================\n",
      "                 coef    std err          t      P>|t|      [0.025      0.975]\n",
      "------------------------------------------------------------------------------\n",
      "const      -4.654e-17      0.016   -2.9e-15      1.000      -0.032       0.032\n",
      "Z1             1.0000      0.017     60.163      0.000       0.967       1.033\n",
      "==============================================================================\n",
      "Omnibus:                      214.662   Durbin-Watson:                   1.725\n",
      "Prob(Omnibus):                  0.000   Jarque-Bera (JB):             8318.182\n",
      "Skew:                           2.762   Prob(JB):                         0.00\n",
      "Kurtosis:                      29.780   Cond. No.                         1.04\n",
      "==============================================================================\n",
      "\n",
      "Warnings:\n",
      "[1] Standard Errors assume that the covariance matrix of the errors is correctly specified.\n",
      "                            OLS Regression Results                            \n",
      "==============================================================================\n",
      "Dep. Variable:                 ff4_tc   R-squared:                       0.858\n",
      "Model:                            OLS   Adj. R-squared:                  0.858\n",
      "Method:                 Least Squares   F-statistic:                     1608.\n",
      "Date:                Mon, 04 Dec 2017   Prob (F-statistic):          1.58e-114\n",
      "Time:                        10:27:08   Log-Likelihood:                -117.80\n",
      "No. Observations:                 267   AIC:                             239.6\n",
      "Df Residuals:                     265   BIC:                             246.8\n",
      "Df Model:                           1                                         \n",
      "Covariance Type:            nonrobust                                         \n",
      "==============================================================================\n",
      "                 coef    std err          t      P>|t|      [0.025      0.975]\n",
      "------------------------------------------------------------------------------\n",
      "const       2.804e-17      0.023   1.21e-15      1.000      -0.045       0.045\n",
      "Z1             0.9599      0.024     40.097      0.000       0.913       1.007\n",
      "==============================================================================\n",
      "Omnibus:                       82.899   Durbin-Watson:                   1.652\n",
      "Prob(Omnibus):                  0.000   Jarque-Bera (JB):             1180.249\n",
      "Skew:                          -0.787   Prob(JB):                    5.15e-257\n",
      "Kurtosis:                      13.179   Cond. No.                         1.04\n",
      "==============================================================================\n",
      "\n",
      "Warnings:\n",
      "[1] Standard Errors assume that the covariance matrix of the errors is correctly specified.\n",
      "                            OLS Regression Results                            \n",
      "==============================================================================\n",
      "Dep. Variable:                 ed2_tc   R-squared:                       0.587\n",
      "Model:                            OLS   Adj. R-squared:                  0.585\n",
      "Method:                 Least Squares   F-statistic:                     376.0\n",
      "Date:                Mon, 04 Dec 2017   Prob (F-statistic):           9.48e-53\n",
      "Time:                        10:27:08   Log-Likelihood:                -260.94\n",
      "No. Observations:                 267   AIC:                             525.9\n",
      "Df Residuals:                     265   BIC:                             533.1\n",
      "Df Model:                           1                                         \n",
      "Covariance Type:            nonrobust                                         \n",
      "==============================================================================\n",
      "                 coef    std err          t      P>|t|      [0.025      0.975]\n",
      "------------------------------------------------------------------------------\n",
      "const       1.776e-17      0.039    4.5e-16      1.000      -0.078       0.078\n",
      "Z1             0.7934      0.041     19.391      0.000       0.713       0.874\n",
      "==============================================================================\n",
      "Omnibus:                       33.046   Durbin-Watson:                   1.411\n",
      "Prob(Omnibus):                  0.000   Jarque-Bera (JB):              201.208\n",
      "Skew:                          -0.096   Prob(JB):                     2.03e-44\n",
      "Kurtosis:                       7.248   Cond. No.                         1.04\n",
      "==============================================================================\n",
      "\n",
      "Warnings:\n",
      "[1] Standard Errors assume that the covariance matrix of the errors is correctly specified.\n",
      "                            OLS Regression Results                            \n",
      "==============================================================================\n",
      "Dep. Variable:                 ed3_tc   R-squared:                       0.438\n",
      "Model:                            OLS   Adj. R-squared:                  0.436\n",
      "Method:                 Least Squares   F-statistic:                     206.5\n",
      "Date:                Mon, 04 Dec 2017   Prob (F-statistic):           5.10e-35\n",
      "Time:                        10:27:08   Log-Likelihood:                -301.93\n",
      "No. Observations:                 267   AIC:                             607.9\n",
      "Df Residuals:                     265   BIC:                             615.0\n",
      "Df Model:                           1                                         \n",
      "Covariance Type:            nonrobust                                         \n",
      "==============================================================================\n",
      "                 coef    std err          t      P>|t|      [0.025      0.975]\n",
      "------------------------------------------------------------------------------\n",
      "const        4.22e-17      0.046   9.16e-16      1.000      -0.091       0.091\n",
      "Z1             0.6856      0.048     14.371      0.000       0.592       0.780\n",
      "==============================================================================\n",
      "Omnibus:                       32.521   Durbin-Watson:                   1.493\n",
      "Prob(Omnibus):                  0.000   Jarque-Bera (JB):              190.057\n",
      "Skew:                           0.122   Prob(JB):                     5.37e-42\n",
      "Kurtosis:                       7.126   Cond. No.                         1.04\n",
      "==============================================================================\n",
      "\n",
      "Warnings:\n",
      "[1] Standard Errors assume that the covariance matrix of the errors is correctly specified.\n",
      "                            OLS Regression Results                            \n",
      "==============================================================================\n",
      "Dep. Variable:                 ed4_tc   R-squared:                       0.296\n",
      "Model:                            OLS   Adj. R-squared:                  0.293\n",
      "Method:                 Least Squares   F-statistic:                     111.2\n",
      "Date:                Mon, 04 Dec 2017   Prob (F-statistic):           6.21e-22\n",
      "Time:                        10:27:08   Log-Likelihood:                -332.09\n",
      "No. Observations:                 267   AIC:                             668.2\n",
      "Df Residuals:                     265   BIC:                             675.4\n",
      "Df Model:                           1                                         \n",
      "Covariance Type:            nonrobust                                         \n",
      "==============================================================================\n",
      "                 coef    std err          t      P>|t|      [0.025      0.975]\n",
      "------------------------------------------------------------------------------\n",
      "const       1.577e-17      0.052   3.06e-16      1.000      -0.102       0.102\n",
      "Z1             0.5632      0.053     10.543      0.000       0.458       0.668\n",
      "==============================================================================\n",
      "Omnibus:                       35.836   Durbin-Watson:                   1.537\n",
      "Prob(Omnibus):                  0.000   Jarque-Bera (JB):              216.862\n",
      "Skew:                           0.225   Prob(JB):                     8.11e-48\n",
      "Kurtosis:                       7.392   Cond. No.                         1.04\n",
      "==============================================================================\n",
      "\n",
      "Warnings:\n",
      "[1] Standard Errors assume that the covariance matrix of the errors is correctly specified.\n"
     ]
    }
   ],
   "source": [
    "reg3 = sm.OLS(endog=X['mp1_tc'], exog=Z_reg[['const','Z1']], missing='drop')\n",
    "results3 = reg3.fit()\n",
    "print(results3.summary())\n",
    "\n",
    "reg3 = sm.OLS(endog=X['ff4_tc'], exog=Z_reg[['const','Z1']], missing='drop')\n",
    "results3 = reg3.fit()\n",
    "print(results3.summary())\n",
    "\n",
    "reg3 = sm.OLS(endog=X['ed2_tc'], exog=Z_reg[['const','Z1']], missing='drop')\n",
    "results3 = reg3.fit()\n",
    "print(results3.summary())\n",
    "\n",
    "reg3 = sm.OLS(endog=X['ed3_tc'], exog=Z_reg[['const','Z1']], missing='drop')\n",
    "results3 = reg3.fit()\n",
    "print(results3.summary())\n",
    "\n",
    "reg3 = sm.OLS(endog=X['ed4_tc'], exog=Z_reg[['const','Z1']], missing='drop')\n",
    "results3 = reg3.fit()\n",
    "print(results3.summary())"
   ]
  },
  {
   "cell_type": "markdown",
   "metadata": {},
   "source": [
    "#### Regressions with Target and Path factors."
   ]
  },
  {
   "cell_type": "code",
   "execution_count": 55,
   "metadata": {
    "scrolled": false
   },
   "outputs": [
    {
     "name": "stdout",
     "output_type": "stream",
     "text": [
      "                            OLS Regression Results                            \n",
      "==============================================================================\n",
      "Dep. Variable:                 mp1_tc   R-squared:                       0.932\n",
      "Model:                            OLS   Adj. R-squared:                  0.931\n",
      "Method:                 Least Squares   F-statistic:                     1803.\n",
      "Date:                Mon, 04 Dec 2017   Prob (F-statistic):          1.19e-154\n",
      "Time:                        10:27:12   Log-Likelihood:                -20.405\n",
      "No. Observations:                 267   AIC:                             46.81\n",
      "Df Residuals:                     264   BIC:                             57.57\n",
      "Df Model:                           2                                         \n",
      "Covariance Type:            nonrobust                                         \n",
      "==============================================================================\n",
      "                 coef    std err          t      P>|t|      [0.025      0.975]\n",
      "------------------------------------------------------------------------------\n",
      "Z1             1.0000      0.023     43.254      0.000       0.954       1.046\n",
      "Z2         -4.852e-16      0.016  -2.97e-14      1.000      -0.032       0.032\n",
      "const       1.537e-17      0.016   9.56e-16      1.000      -0.032       0.032\n",
      "==============================================================================\n",
      "Omnibus:                      214.662   Durbin-Watson:                   1.725\n",
      "Prob(Omnibus):                  0.000   Jarque-Bera (JB):             8318.182\n",
      "Skew:                           2.762   Prob(JB):                         0.00\n",
      "Kurtosis:                      29.780   Cond. No.                         2.55\n",
      "==============================================================================\n",
      "\n",
      "Warnings:\n",
      "[1] Standard Errors assume that the covariance matrix of the errors is correctly specified.\n",
      "                            OLS Regression Results                            \n",
      "==============================================================================\n",
      "Dep. Variable:                 ff4_tc   R-squared:                       0.893\n",
      "Model:                            OLS   Adj. R-squared:                  0.892\n",
      "Method:                 Least Squares   F-statistic:                     1104.\n",
      "Date:                Mon, 04 Dec 2017   Prob (F-statistic):          6.03e-129\n",
      "Time:                        10:27:12   Log-Likelihood:                -80.265\n",
      "No. Observations:                 267   AIC:                             166.5\n",
      "Df Residuals:                     264   BIC:                             177.3\n",
      "Df Model:                           2                                         \n",
      "Covariance Type:            nonrobust                                         \n",
      "==============================================================================\n",
      "                 coef    std err          t      P>|t|      [0.025      0.975]\n",
      "------------------------------------------------------------------------------\n",
      "Z1             0.7741      0.029     26.757      0.000       0.717       0.831\n",
      "Z2             0.1895      0.020      9.259      0.000       0.149       0.230\n",
      "const       6.211e-17      0.020   3.09e-15      1.000      -0.040       0.040\n",
      "==============================================================================\n",
      "Omnibus:                      269.275   Durbin-Watson:                   1.821\n",
      "Prob(Omnibus):                  0.000   Jarque-Bera (JB):            15327.643\n",
      "Skew:                          -3.841   Prob(JB):                         0.00\n",
      "Kurtosis:                      39.315   Cond. No.                         2.55\n",
      "==============================================================================\n",
      "\n",
      "Warnings:\n",
      "[1] Standard Errors assume that the covariance matrix of the errors is correctly specified.\n",
      "                            OLS Regression Results                            \n",
      "==============================================================================\n",
      "Dep. Variable:                 ed2_tc   R-squared:                       0.964\n",
      "Model:                            OLS   Adj. R-squared:                  0.964\n",
      "Method:                 Least Squares   F-statistic:                     3550.\n",
      "Date:                Mon, 04 Dec 2017   Prob (F-statistic):          1.54e-191\n",
      "Time:                        10:27:12   Log-Likelihood:                 65.495\n",
      "No. Observations:                 267   AIC:                            -125.0\n",
      "Df Residuals:                     264   BIC:                            -114.2\n",
      "Df Model:                           2                                         \n",
      "Covariance Type:            nonrobust                                         \n",
      "==============================================================================\n",
      "                 coef    std err          t      P>|t|      [0.025      0.975]\n",
      "------------------------------------------------------------------------------\n",
      "Z1             0.1804      0.017     10.765      0.000       0.147       0.213\n",
      "Z2             0.6252      0.012     52.732      0.000       0.602       0.649\n",
      "const      -3.752e-18      0.012  -3.22e-16      1.000      -0.023       0.023\n",
      "==============================================================================\n",
      "Omnibus:                      105.364   Durbin-Watson:                   1.535\n",
      "Prob(Omnibus):                  0.000   Jarque-Bera (JB):             1380.441\n",
      "Skew:                           1.181   Prob(JB):                    1.74e-300\n",
      "Kurtosis:                      13.886   Cond. No.                         2.55\n",
      "==============================================================================\n",
      "\n",
      "Warnings:\n",
      "[1] Standard Errors assume that the covariance matrix of the errors is correctly specified.\n",
      "                            OLS Regression Results                            \n",
      "==============================================================================\n",
      "Dep. Variable:                 ed3_tc   R-squared:                       0.991\n",
      "Model:                            OLS   Adj. R-squared:                  0.991\n",
      "Method:                 Least Squares   F-statistic:                 1.412e+04\n",
      "Date:                Mon, 04 Dec 2017   Prob (F-statistic):          4.00e-269\n",
      "Time:                        10:27:12   Log-Likelihood:                 246.18\n",
      "No. Observations:                 267   AIC:                            -486.4\n",
      "Df Residuals:                     264   BIC:                            -475.6\n",
      "Df Model:                           2                                         \n",
      "Covariance Type:            nonrobust                                         \n",
      "==============================================================================\n",
      "                 coef    std err          t      P>|t|      [0.025      0.975]\n",
      "------------------------------------------------------------------------------\n",
      "Z1            -0.0561      0.009     -6.585      0.000      -0.073      -0.039\n",
      "Z2             0.7565      0.006    125.523      0.000       0.745       0.768\n",
      "const       7.972e-17      0.006   1.35e-14      1.000      -0.012       0.012\n",
      "==============================================================================\n",
      "Omnibus:                       83.702   Durbin-Watson:                   1.596\n",
      "Prob(Omnibus):                  0.000   Jarque-Bera (JB):              547.015\n",
      "Skew:                           1.075   Prob(JB):                    1.65e-119\n",
      "Kurtosis:                       9.674   Cond. No.                         2.55\n",
      "==============================================================================\n",
      "\n",
      "Warnings:\n",
      "[1] Standard Errors assume that the covariance matrix of the errors is correctly specified.\n",
      "                            OLS Regression Results                            \n",
      "==============================================================================\n",
      "Dep. Variable:                 ed4_tc   R-squared:                       0.974\n",
      "Model:                            OLS   Adj. R-squared:                  0.974\n",
      "Method:                 Least Squares   F-statistic:                     5042.\n",
      "Date:                Mon, 04 Dec 2017   Prob (F-statistic):          4.93e-211\n",
      "Time:                        10:27:12   Log-Likelihood:                 110.90\n",
      "No. Observations:                 267   AIC:                            -215.8\n",
      "Df Residuals:                     264   BIC:                            -205.0\n",
      "Df Model:                           2                                         \n",
      "Covariance Type:            nonrobust                                         \n",
      "==============================================================================\n",
      "                 coef    std err          t      P>|t|      [0.025      0.975]\n",
      "------------------------------------------------------------------------------\n",
      "Z1            -0.2589      0.014    -18.310      0.000      -0.287      -0.231\n",
      "Z2             0.8384      0.010     83.819      0.000       0.819       0.858\n",
      "const       1.237e-18      0.010   1.26e-16      1.000      -0.019       0.019\n",
      "==============================================================================\n",
      "Omnibus:                       62.909   Durbin-Watson:                   1.516\n",
      "Prob(Omnibus):                  0.000   Jarque-Bera (JB):              557.144\n",
      "Skew:                          -0.624   Prob(JB):                    1.04e-121\n",
      "Kurtosis:                       9.966   Cond. No.                         2.55\n",
      "==============================================================================\n",
      "\n",
      "Warnings:\n",
      "[1] Standard Errors assume that the covariance matrix of the errors is correctly specified.\n"
     ]
    }
   ],
   "source": [
    "reg3 = sm.OLS(endog=X['mp1_tc'], exog=Z_reg, missing='drop')\n",
    "results3 = reg3.fit()\n",
    "print(results3.summary())\n",
    "\n",
    "reg3 = sm.OLS(endog=X['ff4_tc'], exog=Z_reg, missing='drop')\n",
    "results3 = reg3.fit()\n",
    "print(results3.summary())\n",
    "\n",
    "reg3 = sm.OLS(endog=X['ed2_tc'], exog=Z_reg, missing='drop')\n",
    "results3 = reg3.fit()\n",
    "print(results3.summary())\n",
    "\n",
    "reg3 = sm.OLS(endog=X['ed3_tc'], exog=Z_reg, missing='drop')\n",
    "results3 = reg3.fit()\n",
    "print(results3.summary())\n",
    "\n",
    "reg3 = sm.OLS(endog=X['ed4_tc'], exog=Z_reg, missing='drop')\n",
    "results3 = reg3.fit()\n",
    "print(results3.summary())"
   ]
  },
  {
   "cell_type": "markdown",
   "metadata": {
    "collapsed": true
   },
   "source": [
    "## Number 4"
   ]
  },
  {
   "cell_type": "markdown",
   "metadata": {},
   "source": [
    "#### Download monetary surprise series by Romer and Romer updated by Yuriy Gorodonichenko."
   ]
  },
  {
   "cell_type": "code",
   "execution_count": 87,
   "metadata": {
    "collapsed": true
   },
   "outputs": [],
   "source": [
    "rr_data = pd.read_csv('rr.csv')\n",
    "rr_data = rr_data.dropna()"
   ]
  },
  {
   "cell_type": "markdown",
   "metadata": {},
   "source": [
    "#### Merge the datasets together."
   ]
  },
  {
   "cell_type": "code",
   "execution_count": 88,
   "metadata": {},
   "outputs": [
    {
     "data": {
      "text/html": [
       "<div>\n",
       "<style>\n",
       "    .dataframe thead tr:only-child th {\n",
       "        text-align: right;\n",
       "    }\n",
       "\n",
       "    .dataframe thead th {\n",
       "        text-align: left;\n",
       "    }\n",
       "\n",
       "    .dataframe tbody tr th {\n",
       "        vertical-align: top;\n",
       "    }\n",
       "</style>\n",
       "<table border=\"1\" class=\"dataframe\">\n",
       "  <thead>\n",
       "    <tr style=\"text-align: right;\">\n",
       "      <th></th>\n",
       "      <th>year</th>\n",
       "      <th>month</th>\n",
       "      <th>mp1_tc</th>\n",
       "      <th>ff4_tc</th>\n",
       "      <th>ed2_tc</th>\n",
       "      <th>ed3_tc</th>\n",
       "      <th>ed4_tc</th>\n",
       "      <th>Z1</th>\n",
       "      <th>Z2</th>\n",
       "      <th>Year</th>\n",
       "      <th>RR</th>\n",
       "    </tr>\n",
       "  </thead>\n",
       "  <tbody>\n",
       "    <tr>\n",
       "      <th>222</th>\n",
       "      <td>2008</td>\n",
       "      <td>8</td>\n",
       "      <td>-0.002596</td>\n",
       "      <td>-0.026129</td>\n",
       "      <td>-0.021774</td>\n",
       "      <td>-0.021774</td>\n",
       "      <td>-0.030484</td>\n",
       "      <td>-0.010363</td>\n",
       "      <td>-0.035603</td>\n",
       "      <td>2008.583333</td>\n",
       "      <td>0.150882</td>\n",
       "    </tr>\n",
       "    <tr>\n",
       "      <th>223</th>\n",
       "      <td>2008</td>\n",
       "      <td>9</td>\n",
       "      <td>0.053181</td>\n",
       "      <td>0.056129</td>\n",
       "      <td>0.039274</td>\n",
       "      <td>0.029274</td>\n",
       "      <td>0.015484</td>\n",
       "      <td>0.057620</td>\n",
       "      <td>0.041316</td>\n",
       "      <td>2008.666667</td>\n",
       "      <td>0.025900</td>\n",
       "    </tr>\n",
       "    <tr>\n",
       "      <th>224</th>\n",
       "      <td>2008</td>\n",
       "      <td>10</td>\n",
       "      <td>-0.043732</td>\n",
       "      <td>0.047427</td>\n",
       "      <td>0.022177</td>\n",
       "      <td>0.013145</td>\n",
       "      <td>0.006936</td>\n",
       "      <td>-0.003262</td>\n",
       "      <td>0.022687</td>\n",
       "      <td>2008.750000</td>\n",
       "      <td>0.208207</td>\n",
       "    </tr>\n",
       "    <tr>\n",
       "      <th>225</th>\n",
       "      <td>2008</td>\n",
       "      <td>11</td>\n",
       "      <td>-0.059003</td>\n",
       "      <td>-0.047417</td>\n",
       "      <td>-0.049678</td>\n",
       "      <td>-0.075645</td>\n",
       "      <td>-0.086935</td>\n",
       "      <td>-0.045785</td>\n",
       "      <td>-0.099977</td>\n",
       "      <td>2008.833333</td>\n",
       "      <td>0.000000</td>\n",
       "    </tr>\n",
       "    <tr>\n",
       "      <th>226</th>\n",
       "      <td>2008</td>\n",
       "      <td>12</td>\n",
       "      <td>-0.082668</td>\n",
       "      <td>-0.095489</td>\n",
       "      <td>-0.152258</td>\n",
       "      <td>-0.157419</td>\n",
       "      <td>-0.157419</td>\n",
       "      <td>-0.079011</td>\n",
       "      <td>-0.214082</td>\n",
       "      <td>2008.916667</td>\n",
       "      <td>-0.063294</td>\n",
       "    </tr>\n",
       "  </tbody>\n",
       "</table>\n",
       "</div>"
      ],
      "text/plain": [
       "     year month    mp1_tc    ff4_tc    ed2_tc    ed3_tc    ed4_tc        Z1  \\\n",
       "222  2008     8 -0.002596 -0.026129 -0.021774 -0.021774 -0.030484 -0.010363   \n",
       "223  2008     9  0.053181  0.056129  0.039274  0.029274  0.015484  0.057620   \n",
       "224  2008    10 -0.043732  0.047427  0.022177  0.013145  0.006936 -0.003262   \n",
       "225  2008    11 -0.059003 -0.047417 -0.049678 -0.075645 -0.086935 -0.045785   \n",
       "226  2008    12 -0.082668 -0.095489 -0.152258 -0.157419 -0.157419 -0.079011   \n",
       "\n",
       "           Z2         Year        RR  \n",
       "222 -0.035603  2008.583333  0.150882  \n",
       "223  0.041316  2008.666667  0.025900  \n",
       "224  0.022687  2008.750000  0.208207  \n",
       "225 -0.099977  2008.833333  0.000000  \n",
       "226 -0.214082  2008.916667 -0.063294  "
      ]
     },
     "execution_count": 88,
     "metadata": {},
     "output_type": "execute_result"
    }
   ],
   "source": [
    "data2=data.copy()\n",
    "data2['Z1']=Z['Z1']\n",
    "data2['Z2']=Z['Z2']\n",
    "merged = pd.merge(data2,rr_data,on=['year','month'])\n",
    "merged.tail()"
   ]
  },
  {
   "cell_type": "markdown",
   "metadata": {},
   "source": [
    "#### Look at correlations"
   ]
  },
  {
   "cell_type": "code",
   "execution_count": 58,
   "metadata": {},
   "outputs": [
    {
     "data": {
      "text/html": [
       "<div>\n",
       "<style>\n",
       "    .dataframe thead tr:only-child th {\n",
       "        text-align: right;\n",
       "    }\n",
       "\n",
       "    .dataframe thead th {\n",
       "        text-align: left;\n",
       "    }\n",
       "\n",
       "    .dataframe tbody tr th {\n",
       "        vertical-align: top;\n",
       "    }\n",
       "</style>\n",
       "<table border=\"1\" class=\"dataframe\">\n",
       "  <thead>\n",
       "    <tr style=\"text-align: right;\">\n",
       "      <th></th>\n",
       "      <th>Z1</th>\n",
       "      <th>RR</th>\n",
       "    </tr>\n",
       "  </thead>\n",
       "  <tbody>\n",
       "    <tr>\n",
       "      <th>Z1</th>\n",
       "      <td>1.000000</td>\n",
       "      <td>0.201552</td>\n",
       "    </tr>\n",
       "    <tr>\n",
       "      <th>RR</th>\n",
       "      <td>0.201552</td>\n",
       "      <td>1.000000</td>\n",
       "    </tr>\n",
       "  </tbody>\n",
       "</table>\n",
       "</div>"
      ],
      "text/plain": [
       "          Z1        RR\n",
       "Z1  1.000000  0.201552\n",
       "RR  0.201552  1.000000"
      ]
     },
     "execution_count": 58,
     "metadata": {},
     "output_type": "execute_result"
    }
   ],
   "source": [
    "merged[['Z1','RR']].corr()"
   ]
  },
  {
   "cell_type": "code",
   "execution_count": 59,
   "metadata": {},
   "outputs": [
    {
     "data": {
      "text/html": [
       "<div>\n",
       "<style>\n",
       "    .dataframe thead tr:only-child th {\n",
       "        text-align: right;\n",
       "    }\n",
       "\n",
       "    .dataframe thead th {\n",
       "        text-align: left;\n",
       "    }\n",
       "\n",
       "    .dataframe tbody tr th {\n",
       "        vertical-align: top;\n",
       "    }\n",
       "</style>\n",
       "<table border=\"1\" class=\"dataframe\">\n",
       "  <thead>\n",
       "    <tr style=\"text-align: right;\">\n",
       "      <th></th>\n",
       "      <th>Z2</th>\n",
       "      <th>RR</th>\n",
       "    </tr>\n",
       "  </thead>\n",
       "  <tbody>\n",
       "    <tr>\n",
       "      <th>Z2</th>\n",
       "      <td>1.000000</td>\n",
       "      <td>0.192964</td>\n",
       "    </tr>\n",
       "    <tr>\n",
       "      <th>RR</th>\n",
       "      <td>0.192964</td>\n",
       "      <td>1.000000</td>\n",
       "    </tr>\n",
       "  </tbody>\n",
       "</table>\n",
       "</div>"
      ],
      "text/plain": [
       "          Z2        RR\n",
       "Z2  1.000000  0.192964\n",
       "RR  0.192964  1.000000"
      ]
     },
     "execution_count": 59,
     "metadata": {},
     "output_type": "execute_result"
    }
   ],
   "source": [
    "merged[['Z2','RR']].corr()"
   ]
  },
  {
   "cell_type": "code",
   "execution_count": 60,
   "metadata": {},
   "outputs": [
    {
     "data": {
      "text/html": [
       "<div>\n",
       "<style>\n",
       "    .dataframe thead tr:only-child th {\n",
       "        text-align: right;\n",
       "    }\n",
       "\n",
       "    .dataframe thead th {\n",
       "        text-align: left;\n",
       "    }\n",
       "\n",
       "    .dataframe tbody tr th {\n",
       "        vertical-align: top;\n",
       "    }\n",
       "</style>\n",
       "<table border=\"1\" class=\"dataframe\">\n",
       "  <thead>\n",
       "    <tr style=\"text-align: right;\">\n",
       "      <th></th>\n",
       "      <th>mp1_tc</th>\n",
       "      <th>RR</th>\n",
       "    </tr>\n",
       "  </thead>\n",
       "  <tbody>\n",
       "    <tr>\n",
       "      <th>mp1_tc</th>\n",
       "      <td>1.000000</td>\n",
       "      <td>0.206551</td>\n",
       "    </tr>\n",
       "    <tr>\n",
       "      <th>RR</th>\n",
       "      <td>0.206551</td>\n",
       "      <td>1.000000</td>\n",
       "    </tr>\n",
       "  </tbody>\n",
       "</table>\n",
       "</div>"
      ],
      "text/plain": [
       "          mp1_tc        RR\n",
       "mp1_tc  1.000000  0.206551\n",
       "RR      0.206551  1.000000"
      ]
     },
     "execution_count": 60,
     "metadata": {},
     "output_type": "execute_result"
    }
   ],
   "source": [
    "merged[['mp1_tc','RR']].corr()"
   ]
  },
  {
   "cell_type": "markdown",
   "metadata": {},
   "source": [
    "#### From the correlation tables, it looks like the Target factor is most closely related to the RR shocks (although both are quite weak - maybe I merged the data wrong? But RR shocks are also weakly correlated with mp1 so maybe it's not wrong...) ."
   ]
  },
  {
   "cell_type": "markdown",
   "metadata": {},
   "source": [
    "#### From my understanding of the paper, GSS essentially outsource pinnning down the shocks / surprise changes to the market. By using high frequency data and tight windows around each Fed event, a no shock is the futures already pricing in FOMC announcements (market conseus agreed with Fed actions), whereas a shock reflects market participants not expecting the FOMC announcements and adjusting their option positions accordingly. \n",
    "\n",
    "#### For Romer and Romer, they combine the Greenbook forecasts with narrative methods, by first deriving a series of intended Fed Funds rate changes during FOMC meetings and then regress thsi change on the current Fed Funds rate and Greenbook forecasts to separate the endogenous response of policy to information about the economy from the exogenous shock. "
   ]
  },
  {
   "cell_type": "markdown",
   "metadata": {},
   "source": [
    "## Number 5"
   ]
  },
  {
   "cell_type": "markdown",
   "metadata": {},
   "source": [
    "#### (Assuming by shocks you mean the original Romer and Romer shocks) Estimate (using Stata) the impulse responses using Jorda's local projection method on industrial production, unemployment and inflation for 2 years. It looks like there is a more persistent decine in industrial production and rise in unemployment, both of which return to normal by the end of 4 years (not shown). "
   ]
  },
  {
   "cell_type": "markdown",
   "metadata": {},
   "source": [
    "#### Top left is industrial production, top right is unemployment and bottom left is inflation and h is in months."
   ]
  },
  {
   "cell_type": "markdown",
   "metadata": {},
   "source": [
    "![my_image](files/3.png)"
   ]
  },
  {
   "cell_type": "markdown",
   "metadata": {},
   "source": [
    "#### Then following Ramey (2016), we add Fed Funds Rate for 2 year impulse response and see similar results. Notably, a shock that raises the Fed Funds rate returns back by 2 years. In both we see a price puzzle."
   ]
  },
  {
   "cell_type": "markdown",
   "metadata": {},
   "source": [
    "#### Top left is Fed Funds rate, top right is industrial production, bottom left is unemployment and bottom right is inflation and h is in months."
   ]
  },
  {
   "cell_type": "markdown",
   "metadata": {},
   "source": [
    "![my_image](files/4.png)"
   ]
  },
  {
   "cell_type": "markdown",
   "metadata": {},
   "source": [
    "#### Ramey's code from http://econweb.ucsd.edu/~vramey/research.html#data"
   ]
  }
 ],
 "metadata": {
  "kernelspec": {
   "display_name": "Python 3",
   "language": "python",
   "name": "python3"
  },
  "language_info": {
   "codemirror_mode": {
    "name": "ipython",
    "version": 3
   },
   "file_extension": ".py",
   "mimetype": "text/x-python",
   "name": "python",
   "nbconvert_exporter": "python",
   "pygments_lexer": "ipython3",
   "version": "3.6.3"
  }
 },
 "nbformat": 4,
 "nbformat_minor": 2
}
