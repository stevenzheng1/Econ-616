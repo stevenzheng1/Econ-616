{
 "cells": [
  {
   "cell_type": "markdown",
   "metadata": {},
   "source": [
    "# ECON 616 Macroeconometrics - HW 5\n",
    "\n",
    "Professor Ed Herbst <br> Steven Zheng <br> sz293@georgetown.edu <br> December 4, 2017"
   ]
  },
  {
   "cell_type": "markdown",
   "metadata": {},
   "source": [
    "## Number 1"
   ]
  },
  {
   "cell_type": "markdown",
   "metadata": {},
   "source": [
    "#### Download data from Gertler and Karadi (2015), drop all observations with NA and where series is uniformly zero. Descriptive statistics and correlation table."
   ]
  },
  {
   "cell_type": "code",
   "execution_count": 1,
   "metadata": {},
   "outputs": [
    {
     "name": "stderr",
     "output_type": "stream",
     "text": [
      "/Users/stevenzheng/anaconda3/lib/python3.6/site-packages/statsmodels/compat/pandas.py:56: FutureWarning: The pandas.core.datetools module is deprecated and will be removed in a future version. Please use the pandas.tseries module instead.\n",
      "  from pandas.core import datetools\n"
     ]
    }
   ],
   "source": [
    "import pandas as pd\n",
    "import numpy as np\n",
    "import matplotlib.pyplot as plt\n",
    "import seaborn as sns; sns.set(style='darkgrid')\n",
    "from scipy.stats.stats import pearsonr\n",
    "from sklearn.preprocessing import StandardScaler\n",
    "import math\n",
    "import statsmodels.api as sm"
   ]
  },
  {
   "cell_type": "code",
   "execution_count": 2,
   "metadata": {},
   "outputs": [
    {
     "data": {
      "text/html": [
       "<div>\n",
       "<style>\n",
       "    .dataframe thead tr:only-child th {\n",
       "        text-align: right;\n",
       "    }\n",
       "\n",
       "    .dataframe thead th {\n",
       "        text-align: left;\n",
       "    }\n",
       "\n",
       "    .dataframe tbody tr th {\n",
       "        vertical-align: top;\n",
       "    }\n",
       "</style>\n",
       "<table border=\"1\" class=\"dataframe\">\n",
       "  <thead>\n",
       "    <tr style=\"text-align: right;\">\n",
       "      <th></th>\n",
       "      <th>year</th>\n",
       "      <th>month</th>\n",
       "      <th>mp1_tc</th>\n",
       "      <th>ff4_tc</th>\n",
       "      <th>ed2_tc</th>\n",
       "      <th>ed3_tc</th>\n",
       "      <th>ed4_tc</th>\n",
       "    </tr>\n",
       "  </thead>\n",
       "  <tbody>\n",
       "    <tr>\n",
       "      <th>262</th>\n",
       "      <td>2012</td>\n",
       "      <td>1</td>\n",
       "      <td>0.000539</td>\n",
       "      <td>0.000000</td>\n",
       "      <td>0.000484</td>\n",
       "      <td>-0.001774</td>\n",
       "      <td>-0.004032</td>\n",
       "    </tr>\n",
       "    <tr>\n",
       "      <th>263</th>\n",
       "      <td>2012</td>\n",
       "      <td>2</td>\n",
       "      <td>-0.003871</td>\n",
       "      <td>0.000000</td>\n",
       "      <td>-0.011613</td>\n",
       "      <td>-0.019355</td>\n",
       "      <td>-0.027097</td>\n",
       "    </tr>\n",
       "    <tr>\n",
       "      <th>264</th>\n",
       "      <td>2012</td>\n",
       "      <td>3</td>\n",
       "      <td>0.000000</td>\n",
       "      <td>0.000000</td>\n",
       "      <td>0.003065</td>\n",
       "      <td>0.009193</td>\n",
       "      <td>0.012258</td>\n",
       "    </tr>\n",
       "    <tr>\n",
       "      <th>265</th>\n",
       "      <td>2012</td>\n",
       "      <td>4</td>\n",
       "      <td>0.000000</td>\n",
       "      <td>0.000000</td>\n",
       "      <td>0.001935</td>\n",
       "      <td>0.005806</td>\n",
       "      <td>0.007742</td>\n",
       "    </tr>\n",
       "    <tr>\n",
       "      <th>266</th>\n",
       "      <td>2012</td>\n",
       "      <td>6</td>\n",
       "      <td>0.002754</td>\n",
       "      <td>0.003667</td>\n",
       "      <td>0.007333</td>\n",
       "      <td>0.007333</td>\n",
       "      <td>0.007333</td>\n",
       "    </tr>\n",
       "  </tbody>\n",
       "</table>\n",
       "</div>"
      ],
      "text/plain": [
       "     year  month    mp1_tc    ff4_tc    ed2_tc    ed3_tc    ed4_tc\n",
       "262  2012      1  0.000539  0.000000  0.000484 -0.001774 -0.004032\n",
       "263  2012      2 -0.003871  0.000000 -0.011613 -0.019355 -0.027097\n",
       "264  2012      3  0.000000  0.000000  0.003065  0.009193  0.012258\n",
       "265  2012      4  0.000000  0.000000  0.001935  0.005806  0.007742\n",
       "266  2012      6  0.002754  0.003667  0.007333  0.007333  0.007333"
      ]
     },
     "execution_count": 2,
     "metadata": {},
     "output_type": "execute_result"
    }
   ],
   "source": [
    "data = pd.read_csv('factor_data.csv')\n",
    "data = data.loc[~(data[['mp1_tc','ff4_tc','ed2_tc','ed3_tc','ed4_tc']]==0).all(axis=1)].dropna().reset_index(drop=True)\n",
    "data.tail()"
   ]
  },
  {
   "cell_type": "code",
   "execution_count": 3,
   "metadata": {},
   "outputs": [
    {
     "data": {
      "text/html": [
       "<div>\n",
       "<style>\n",
       "    .dataframe thead tr:only-child th {\n",
       "        text-align: right;\n",
       "    }\n",
       "\n",
       "    .dataframe thead th {\n",
       "        text-align: left;\n",
       "    }\n",
       "\n",
       "    .dataframe tbody tr th {\n",
       "        vertical-align: top;\n",
       "    }\n",
       "</style>\n",
       "<table border=\"1\" class=\"dataframe\">\n",
       "  <thead>\n",
       "    <tr style=\"text-align: right;\">\n",
       "      <th></th>\n",
       "      <th>year</th>\n",
       "      <th>month</th>\n",
       "      <th>mp1_tc</th>\n",
       "      <th>ff4_tc</th>\n",
       "      <th>ed2_tc</th>\n",
       "      <th>ed3_tc</th>\n",
       "      <th>ed4_tc</th>\n",
       "    </tr>\n",
       "  </thead>\n",
       "  <tbody>\n",
       "    <tr>\n",
       "      <th>count</th>\n",
       "      <td>267.000000</td>\n",
       "      <td>267.000000</td>\n",
       "      <td>267.000000</td>\n",
       "      <td>267.000000</td>\n",
       "      <td>267.000000</td>\n",
       "      <td>267.000000</td>\n",
       "      <td>267.000000</td>\n",
       "    </tr>\n",
       "    <tr>\n",
       "      <th>mean</th>\n",
       "      <td>2000.715356</td>\n",
       "      <td>6.434457</td>\n",
       "      <td>-0.015501</td>\n",
       "      <td>-0.013600</td>\n",
       "      <td>-0.012401</td>\n",
       "      <td>-0.011723</td>\n",
       "      <td>-0.011910</td>\n",
       "    </tr>\n",
       "    <tr>\n",
       "      <th>std</th>\n",
       "      <td>6.446532</td>\n",
       "      <td>3.471475</td>\n",
       "      <td>0.058753</td>\n",
       "      <td>0.048675</td>\n",
       "      <td>0.049646</td>\n",
       "      <td>0.051313</td>\n",
       "      <td>0.050781</td>\n",
       "    </tr>\n",
       "    <tr>\n",
       "      <th>min</th>\n",
       "      <td>1990.000000</td>\n",
       "      <td>1.000000</td>\n",
       "      <td>-0.422587</td>\n",
       "      <td>-0.290322</td>\n",
       "      <td>-0.255366</td>\n",
       "      <td>-0.275290</td>\n",
       "      <td>-0.251984</td>\n",
       "    </tr>\n",
       "    <tr>\n",
       "      <th>25%</th>\n",
       "      <td>1995.000000</td>\n",
       "      <td>3.000000</td>\n",
       "      <td>-0.015782</td>\n",
       "      <td>-0.010984</td>\n",
       "      <td>-0.018226</td>\n",
       "      <td>-0.022903</td>\n",
       "      <td>-0.028387</td>\n",
       "    </tr>\n",
       "    <tr>\n",
       "      <th>50%</th>\n",
       "      <td>2001.000000</td>\n",
       "      <td>6.000000</td>\n",
       "      <td>0.000000</td>\n",
       "      <td>-0.001129</td>\n",
       "      <td>-0.001500</td>\n",
       "      <td>-0.001000</td>\n",
       "      <td>-0.003237</td>\n",
       "    </tr>\n",
       "    <tr>\n",
       "      <th>75%</th>\n",
       "      <td>2006.000000</td>\n",
       "      <td>9.000000</td>\n",
       "      <td>0.004511</td>\n",
       "      <td>0.003688</td>\n",
       "      <td>0.008479</td>\n",
       "      <td>0.009113</td>\n",
       "      <td>0.009540</td>\n",
       "    </tr>\n",
       "    <tr>\n",
       "      <th>max</th>\n",
       "      <td>2012.000000</td>\n",
       "      <td>12.000000</td>\n",
       "      <td>0.145830</td>\n",
       "      <td>0.092193</td>\n",
       "      <td>0.133929</td>\n",
       "      <td>0.161129</td>\n",
       "      <td>0.213387</td>\n",
       "    </tr>\n",
       "  </tbody>\n",
       "</table>\n",
       "</div>"
      ],
      "text/plain": [
       "              year       month      mp1_tc      ff4_tc      ed2_tc  \\\n",
       "count   267.000000  267.000000  267.000000  267.000000  267.000000   \n",
       "mean   2000.715356    6.434457   -0.015501   -0.013600   -0.012401   \n",
       "std       6.446532    3.471475    0.058753    0.048675    0.049646   \n",
       "min    1990.000000    1.000000   -0.422587   -0.290322   -0.255366   \n",
       "25%    1995.000000    3.000000   -0.015782   -0.010984   -0.018226   \n",
       "50%    2001.000000    6.000000    0.000000   -0.001129   -0.001500   \n",
       "75%    2006.000000    9.000000    0.004511    0.003688    0.008479   \n",
       "max    2012.000000   12.000000    0.145830    0.092193    0.133929   \n",
       "\n",
       "           ed3_tc      ed4_tc  \n",
       "count  267.000000  267.000000  \n",
       "mean    -0.011723   -0.011910  \n",
       "std      0.051313    0.050781  \n",
       "min     -0.275290   -0.251984  \n",
       "25%     -0.022903   -0.028387  \n",
       "50%     -0.001000   -0.003237  \n",
       "75%      0.009113    0.009540  \n",
       "max      0.161129    0.213387  "
      ]
     },
     "execution_count": 3,
     "metadata": {},
     "output_type": "execute_result"
    }
   ],
   "source": [
    "data.describe()"
   ]
  },
  {
   "cell_type": "code",
   "execution_count": 4,
   "metadata": {},
   "outputs": [
    {
     "data": {
      "text/html": [
       "<div>\n",
       "<style>\n",
       "    .dataframe thead tr:only-child th {\n",
       "        text-align: right;\n",
       "    }\n",
       "\n",
       "    .dataframe thead th {\n",
       "        text-align: left;\n",
       "    }\n",
       "\n",
       "    .dataframe tbody tr th {\n",
       "        vertical-align: top;\n",
       "    }\n",
       "</style>\n",
       "<table border=\"1\" class=\"dataframe\">\n",
       "  <thead>\n",
       "    <tr style=\"text-align: right;\">\n",
       "      <th></th>\n",
       "      <th>mp1_tc</th>\n",
       "      <th>ff4_tc</th>\n",
       "      <th>ed2_tc</th>\n",
       "      <th>ed3_tc</th>\n",
       "      <th>ed4_tc</th>\n",
       "    </tr>\n",
       "  </thead>\n",
       "  <tbody>\n",
       "    <tr>\n",
       "      <th>mp1_tc</th>\n",
       "      <td>1.00</td>\n",
       "      <td>0.81</td>\n",
       "      <td>0.74</td>\n",
       "      <td>0.64</td>\n",
       "      <td>0.54</td>\n",
       "    </tr>\n",
       "    <tr>\n",
       "      <th>ff4_tc</th>\n",
       "      <td>0.81</td>\n",
       "      <td>1.00</td>\n",
       "      <td>0.81</td>\n",
       "      <td>0.74</td>\n",
       "      <td>0.65</td>\n",
       "    </tr>\n",
       "    <tr>\n",
       "      <th>ed2_tc</th>\n",
       "      <td>0.74</td>\n",
       "      <td>0.81</td>\n",
       "      <td>1.00</td>\n",
       "      <td>0.96</td>\n",
       "      <td>0.90</td>\n",
       "    </tr>\n",
       "    <tr>\n",
       "      <th>ed3_tc</th>\n",
       "      <td>0.64</td>\n",
       "      <td>0.74</td>\n",
       "      <td>0.96</td>\n",
       "      <td>1.00</td>\n",
       "      <td>0.97</td>\n",
       "    </tr>\n",
       "    <tr>\n",
       "      <th>ed4_tc</th>\n",
       "      <td>0.54</td>\n",
       "      <td>0.65</td>\n",
       "      <td>0.90</td>\n",
       "      <td>0.97</td>\n",
       "      <td>1.00</td>\n",
       "    </tr>\n",
       "  </tbody>\n",
       "</table>\n",
       "</div>"
      ],
      "text/plain": [
       "        mp1_tc  ff4_tc  ed2_tc  ed3_tc  ed4_tc\n",
       "mp1_tc    1.00    0.81    0.74    0.64    0.54\n",
       "ff4_tc    0.81    1.00    0.81    0.74    0.65\n",
       "ed2_tc    0.74    0.81    1.00    0.96    0.90\n",
       "ed3_tc    0.64    0.74    0.96    1.00    0.97\n",
       "ed4_tc    0.54    0.65    0.90    0.97    1.00"
      ]
     },
     "execution_count": 4,
     "metadata": {},
     "output_type": "execute_result"
    }
   ],
   "source": [
    "data[['mp1_tc','ff4_tc','ed2_tc','ed3_tc','ed4_tc']].corr().round(2)"
   ]
  },
  {
   "cell_type": "markdown",
   "metadata": {},
   "source": [
    "## Number 2"
   ]
  },
  {
   "cell_type": "markdown",
   "metadata": {},
   "source": [
    "#### We will apply principal components analysis (without using a built-in package). First center and normalize each column so that each column has zero mean and unit variance."
   ]
  },
  {
   "cell_type": "code",
   "execution_count": 5,
   "metadata": {},
   "outputs": [
    {
     "data": {
      "text/html": [
       "<div>\n",
       "<style>\n",
       "    .dataframe thead tr:only-child th {\n",
       "        text-align: right;\n",
       "    }\n",
       "\n",
       "    .dataframe thead th {\n",
       "        text-align: left;\n",
       "    }\n",
       "\n",
       "    .dataframe tbody tr th {\n",
       "        vertical-align: top;\n",
       "    }\n",
       "</style>\n",
       "<table border=\"1\" class=\"dataframe\">\n",
       "  <thead>\n",
       "    <tr style=\"text-align: right;\">\n",
       "      <th></th>\n",
       "      <th>mp1_tc</th>\n",
       "      <th>ff4_tc</th>\n",
       "      <th>ed2_tc</th>\n",
       "      <th>ed3_tc</th>\n",
       "      <th>ed4_tc</th>\n",
       "    </tr>\n",
       "  </thead>\n",
       "  <tbody>\n",
       "    <tr>\n",
       "      <th>count</th>\n",
       "      <td>267.00</td>\n",
       "      <td>267.00</td>\n",
       "      <td>267.00</td>\n",
       "      <td>267.00</td>\n",
       "      <td>267.00</td>\n",
       "    </tr>\n",
       "    <tr>\n",
       "      <th>mean</th>\n",
       "      <td>-0.00</td>\n",
       "      <td>0.00</td>\n",
       "      <td>0.00</td>\n",
       "      <td>0.00</td>\n",
       "      <td>0.00</td>\n",
       "    </tr>\n",
       "    <tr>\n",
       "      <th>std</th>\n",
       "      <td>1.00</td>\n",
       "      <td>1.00</td>\n",
       "      <td>1.00</td>\n",
       "      <td>1.00</td>\n",
       "      <td>1.00</td>\n",
       "    </tr>\n",
       "    <tr>\n",
       "      <th>min</th>\n",
       "      <td>-6.94</td>\n",
       "      <td>-5.70</td>\n",
       "      <td>-4.90</td>\n",
       "      <td>-5.15</td>\n",
       "      <td>-4.74</td>\n",
       "    </tr>\n",
       "    <tr>\n",
       "      <th>25%</th>\n",
       "      <td>-0.00</td>\n",
       "      <td>0.05</td>\n",
       "      <td>-0.12</td>\n",
       "      <td>-0.22</td>\n",
       "      <td>-0.33</td>\n",
       "    </tr>\n",
       "    <tr>\n",
       "      <th>50%</th>\n",
       "      <td>0.26</td>\n",
       "      <td>0.26</td>\n",
       "      <td>0.22</td>\n",
       "      <td>0.21</td>\n",
       "      <td>0.17</td>\n",
       "    </tr>\n",
       "    <tr>\n",
       "      <th>75%</th>\n",
       "      <td>0.34</td>\n",
       "      <td>0.36</td>\n",
       "      <td>0.42</td>\n",
       "      <td>0.41</td>\n",
       "      <td>0.42</td>\n",
       "    </tr>\n",
       "    <tr>\n",
       "      <th>max</th>\n",
       "      <td>2.75</td>\n",
       "      <td>2.18</td>\n",
       "      <td>2.95</td>\n",
       "      <td>3.37</td>\n",
       "      <td>4.44</td>\n",
       "    </tr>\n",
       "  </tbody>\n",
       "</table>\n",
       "</div>"
      ],
      "text/plain": [
       "       mp1_tc  ff4_tc  ed2_tc  ed3_tc  ed4_tc\n",
       "count  267.00  267.00  267.00  267.00  267.00\n",
       "mean    -0.00    0.00    0.00    0.00    0.00\n",
       "std      1.00    1.00    1.00    1.00    1.00\n",
       "min     -6.94   -5.70   -4.90   -5.15   -4.74\n",
       "25%     -0.00    0.05   -0.12   -0.22   -0.33\n",
       "50%      0.26    0.26    0.22    0.21    0.17\n",
       "75%      0.34    0.36    0.42    0.41    0.42\n",
       "max      2.75    2.18    2.95    3.37    4.44"
      ]
     },
     "execution_count": 5,
     "metadata": {},
     "output_type": "execute_result"
    }
   ],
   "source": [
    "X = data[['mp1_tc','ff4_tc','ed2_tc','ed3_tc','ed4_tc']]\n",
    "X = pd.DataFrame(StandardScaler().fit_transform(X))\n",
    "X.columns = ['mp1_tc','ff4_tc','ed2_tc','ed3_tc','ed4_tc']\n",
    "X.describe().round(2)"
   ]
  },
  {
   "cell_type": "markdown",
   "metadata": {},
   "source": [
    "#### And the eigenpairs of $X'X$ are"
   ]
  },
  {
   "cell_type": "code",
   "execution_count": 6,
   "metadata": {},
   "outputs": [
    {
     "name": "stdout",
     "output_type": "stream",
     "text": [
      "The eigenvalues are\n",
      " [ 1100.53709875   168.87223008    46.53465745    15.69727248     3.35874125]\n",
      "and the eigenvectors are \n",
      " [[-0.40066132 -0.65349036 -0.61717299 -0.17629405 -0.0209464 ]\n",
      " [-0.4339722  -0.42992623  0.77831614 -0.14508527  0.00241074]\n",
      " [-0.48084705  0.13260004 -0.05671399  0.74831789  0.43359797]\n",
      " [-0.47185891  0.33973923 -0.05442712  0.09930073 -0.80566958]\n",
      " [-0.44415528  0.50508243 -0.08451447 -0.61484174  0.40304437]]\n"
     ]
    }
   ],
   "source": [
    "XTX = np.dot(X.T,X)\n",
    "\n",
    "eigenvalues, eigenvectors = np.linalg.eigh(XTX)\n",
    "eigenvalues = np.flip(eigenvalues,0) #Python gave them in smallest to largest so we flip them\n",
    "eigenvectors = np.flip(eigenvectors,1)\n",
    "\n",
    "print('The eigenvalues are\\n %s\\nand the eigenvectors are \\n %s' % (eigenvalues,eigenvectors))"
   ]
  },
  {
   "cell_type": "markdown",
   "metadata": {},
   "source": [
    " #### The first three principal components explain 82.44% + 12.65% + 3.49% = 98.58% of the variation and follow the levels, steepness and curvature of Litterman and Scheinkman (1991)."
   ]
  },
  {
   "cell_type": "code",
   "execution_count": 7,
   "metadata": {
    "scrolled": false
   },
   "outputs": [
    {
     "data": {
      "image/png": "[encoded data removed]",
      "text/plain": [
       "<matplotlib.figure.Figure at 0x1c1170beb8>"
      ]
     },
     "metadata": {},
     "output_type": "display_data"
    }
   ],
   "source": [
    "eigenvalues_percent = eigenvalues/sum(eigenvalues)*100\n",
    "\n",
    "plt.figure(figsize=(12,6))\n",
    "\n",
    "PC_labels = ['First PC','Second PC','Third PC','Fourth PC','Fifth PC']\n",
    "ax = sns.barplot(PC_labels,eigenvalues_percent)\n",
    "\n",
    "for i in range(len(eigenvalues_percent)):\n",
    "    variation = eigenvalues_percent[i]\n",
    "    height = ax.patches[i].get_height()\n",
    "    ax.text(ax.patches[i].get_x()+ax.patches[i].get_width()/2.,\n",
    "            height+3, \n",
    "            '{:1.2f}'.format(eigenvalues_percent[i]),\n",
    "            ha='center')\n",
    "\n",
    "plt.xlabel('PC')\n",
    "plt.ylabel('Percent of Variation')\n",
    "plt.ylim(0,100)\n",
    "plt.title('Skree Plot')\n",
    "plt.show()"
   ]
  },
  {
   "cell_type": "code",
   "execution_count": 8,
   "metadata": {
    "collapsed": true
   },
   "outputs": [],
   "source": [
    "eigenvectors = pd.DataFrame(eigenvectors)\n",
    "#eigenvectors[0] = -1*eigenvectors[0] make it positive for intepretation and visualization"
   ]
  },
  {
   "cell_type": "code",
   "execution_count": 9,
   "metadata": {},
   "outputs": [
    {
     "data": {
      "image/png": "[encoded data removed]",
      "text/plain": [
       "<matplotlib.figure.Figure at 0x1c19bcfe80>"
      ]
     },
     "metadata": {},
     "output_type": "display_data"
    }
   ],
   "source": [
    "ax = eigenvectors[[0,1,2]].plot(figsize=(12,6))\n",
    "ax.set_xticks(range(len(X.columns)))\n",
    "ax.set_xticklabels(X.columns)\n",
    "\n",
    "lines, labels = ax.get_legend_handles_labels()\n",
    "labels = ['First PC', 'Second PC', 'Third PC']\n",
    "ax.legend(lines, labels, loc='best')\n",
    "\n",
    "plt.title('Factor Loadings')\n",
    "plt.xlabel('Covariates')\n",
    "plt.ylabel('Weight')\n",
    "plt.show()"
   ]
  },
  {
   "cell_type": "markdown",
   "metadata": {},
   "source": [
    "#### And then plotting the first three principal components over time."
   ]
  },
  {
   "cell_type": "code",
   "execution_count": 10,
   "metadata": {
    "scrolled": false
   },
   "outputs": [
    {
     "data": {
      "text/html": [
       "<div>\n",
       "<style>\n",
       "    .dataframe thead tr:only-child th {\n",
       "        text-align: right;\n",
       "    }\n",
       "\n",
       "    .dataframe thead th {\n",
       "        text-align: left;\n",
       "    }\n",
       "\n",
       "    .dataframe tbody tr th {\n",
       "        vertical-align: top;\n",
       "    }\n",
       "</style>\n",
       "<table border=\"1\" class=\"dataframe\">\n",
       "  <thead>\n",
       "    <tr style=\"text-align: right;\">\n",
       "      <th></th>\n",
       "      <th>PC 1</th>\n",
       "      <th>PC 2</th>\n",
       "      <th>PC 3</th>\n",
       "    </tr>\n",
       "  </thead>\n",
       "  <tbody>\n",
       "    <tr>\n",
       "      <th>262</th>\n",
       "      <td>-0.516792</td>\n",
       "      <td>-0.120128</td>\n",
       "      <td>0.010617</td>\n",
       "    </tr>\n",
       "    <tr>\n",
       "      <th>263</th>\n",
       "      <td>-0.005194</td>\n",
       "      <td>-0.449805</td>\n",
       "      <td>0.128018</td>\n",
       "    </tr>\n",
       "    <tr>\n",
       "      <th>264</th>\n",
       "      <td>-0.781944</td>\n",
       "      <td>0.127873</td>\n",
       "      <td>-0.025479</td>\n",
       "    </tr>\n",
       "    <tr>\n",
       "      <th>265</th>\n",
       "      <td>-0.700208</td>\n",
       "      <td>0.057381</td>\n",
       "      <td>-0.013057</td>\n",
       "    </tr>\n",
       "    <tr>\n",
       "      <th>266</th>\n",
       "      <td>-0.814640</td>\n",
       "      <td>0.014749</td>\n",
       "      <td>0.009583</td>\n",
       "    </tr>\n",
       "  </tbody>\n",
       "</table>\n",
       "</div>"
      ],
      "text/plain": [
       "         PC 1      PC 2      PC 3\n",
       "262 -0.516792 -0.120128  0.010617\n",
       "263 -0.005194 -0.449805  0.128018\n",
       "264 -0.781944  0.127873 -0.025479\n",
       "265 -0.700208  0.057381 -0.013057\n",
       "266 -0.814640  0.014749  0.009583"
      ]
     },
     "execution_count": 10,
     "metadata": {},
     "output_type": "execute_result"
    }
   ],
   "source": [
    "principal_components = pd.DataFrame(np.dot(X,eigenvectors[0]))\n",
    "principal_components.columns = ['PC 1']\n",
    "principal_components['PC 2'] = pd.DataFrame(np.dot(X,eigenvectors[1]))\n",
    "principal_components['PC 3'] = pd.DataFrame(np.dot(X,eigenvectors[2]))\n",
    "#principal_components['PC 4'] = pd.DataFrame(np.dot(X,eigenvectors[3]))\n",
    "#principal_components['PC 5'] = pd.DataFrame(np.dot(X,eigenvectors[4]))\n",
    "principal_components.tail()"
   ]
  },
  {
   "cell_type": "code",
   "execution_count": 11,
   "metadata": {
    "scrolled": false
   },
   "outputs": [
    {
     "data": {
      "image/png": "[encoded data removed]",
      "text/plain": [
       "<matplotlib.figure.Figure at 0x1c11705d68>"
      ]
     },
     "metadata": {},
     "output_type": "display_data"
    }
   ],
   "source": [
    "ax = principal_components.plot(figsize=(16,6))\n",
    "lines, labels = ax.get_legend_handles_labels()\n",
    "labels = principal_components.columns\n",
    "ax.legend(lines, labels, loc='best')\n",
    "plt.title('First Three Principal Components')\n",
    "plt.xlabel('Months')\n",
    "plt.show()"
   ]
  },
  {
   "cell_type": "markdown",
   "metadata": {},
   "source": [
    "#### And the regression of $mp1$ on the first three principal components has great fit!"
   ]
  },
  {
   "cell_type": "code",
   "execution_count": 12,
   "metadata": {},
   "outputs": [
    {
     "name": "stdout",
     "output_type": "stream",
     "text": [
      "                            OLS Regression Results                            \n",
      "==============================================================================\n",
      "Dep. Variable:                 mp1_tc   R-squared:                       0.998\n",
      "Model:                            OLS   Adj. R-squared:                  0.998\n",
      "Method:                 Least Squares   F-statistic:                 4.793e+04\n",
      "Date:                Thu, 30 Nov 2017   Prob (F-statistic):               0.00\n",
      "Time:                        19:28:30   Log-Likelihood:                 462.45\n",
      "No. Observations:                 267   AIC:                            -918.9\n",
      "Df Residuals:                     264   BIC:                            -908.1\n",
      "Df Model:                           3                                         \n",
      "Covariance Type:            nonrobust                                         \n",
      "==============================================================================\n",
      "                 coef    std err          t      P>|t|      [0.025      0.975]\n",
      "------------------------------------------------------------------------------\n",
      "PC 1          -0.4007      0.001   -308.729      0.000      -0.403      -0.398\n",
      "PC 2          -0.6535      0.003   -197.249      0.000      -0.660      -0.647\n",
      "PC 3          -0.6172      0.006    -97.790      0.000      -0.630      -0.605\n",
      "==============================================================================\n",
      "Omnibus:                       94.500   Durbin-Watson:                   1.506\n",
      "Prob(Omnibus):                  0.000   Jarque-Bera (JB):             1236.478\n",
      "Skew:                          -1.007   Prob(JB):                    3.18e-269\n",
      "Kurtosis:                      13.349   Cond. No.                         4.86\n",
      "==============================================================================\n",
      "\n",
      "Warnings:\n",
      "[1] Standard Errors assume that the covariance matrix of the errors is correctly specified.\n"
     ]
    }
   ],
   "source": [
    "reg1 = sm.OLS(endog=X['mp1_tc'], exog=principal_components, missing='drop')\n",
    "results = reg1.fit()\n",
    "print(results.summary())"
   ]
  },
  {
   "cell_type": "markdown",
   "metadata": {},
   "source": [
    "## Number 3"
   ]
  },
  {
   "cell_type": "markdown",
   "metadata": {},
   "source": [
    "#### Now we follow Gurkaynak, Sack and Swanson (2004) and use the first two principal components as the two factors $F_1$ and $F_2$. Let $$F=[F_1 \\ F_1]$$ so that $F_1$ and $F_2$ are in $\\mathbb{R}^{267}$ and form the columns of $F$ so $F$ is $267\\times 2$. "
   ]
  },
  {
   "cell_type": "code",
   "execution_count": 13,
   "metadata": {},
   "outputs": [
    {
     "data": {
      "text/html": [
       "<div>\n",
       "<style>\n",
       "    .dataframe thead tr:only-child th {\n",
       "        text-align: right;\n",
       "    }\n",
       "\n",
       "    .dataframe thead th {\n",
       "        text-align: left;\n",
       "    }\n",
       "\n",
       "    .dataframe tbody tr th {\n",
       "        vertical-align: top;\n",
       "    }\n",
       "</style>\n",
       "<table border=\"1\" class=\"dataframe\">\n",
       "  <thead>\n",
       "    <tr style=\"text-align: right;\">\n",
       "      <th></th>\n",
       "      <th>F1</th>\n",
       "      <th>F2</th>\n",
       "    </tr>\n",
       "  </thead>\n",
       "  <tbody>\n",
       "    <tr>\n",
       "      <th>262</th>\n",
       "      <td>-0.516792</td>\n",
       "      <td>-0.120128</td>\n",
       "    </tr>\n",
       "    <tr>\n",
       "      <th>263</th>\n",
       "      <td>-0.005194</td>\n",
       "      <td>-0.449805</td>\n",
       "    </tr>\n",
       "    <tr>\n",
       "      <th>264</th>\n",
       "      <td>-0.781944</td>\n",
       "      <td>0.127873</td>\n",
       "    </tr>\n",
       "    <tr>\n",
       "      <th>265</th>\n",
       "      <td>-0.700208</td>\n",
       "      <td>0.057381</td>\n",
       "    </tr>\n",
       "    <tr>\n",
       "      <th>266</th>\n",
       "      <td>-0.814640</td>\n",
       "      <td>0.014749</td>\n",
       "    </tr>\n",
       "  </tbody>\n",
       "</table>\n",
       "</div>"
      ],
      "text/plain": [
       "           F1        F2\n",
       "262 -0.516792 -0.120128\n",
       "263 -0.005194 -0.449805\n",
       "264 -0.781944  0.127873\n",
       "265 -0.700208  0.057381\n",
       "266 -0.814640  0.014749"
      ]
     },
     "execution_count": 13,
     "metadata": {},
     "output_type": "execute_result"
    }
   ],
   "source": [
    "F = principal_components[['PC 1', 'PC 2']].copy()\n",
    "F.columns = ['F1','F2']\n",
    "F.tail()"
   ]
  },
  {
   "cell_type": "markdown",
   "metadata": {},
   "source": [
    "#### Then first we normalize each of them to have unit variance."
   ]
  },
  {
   "cell_type": "code",
   "execution_count": 14,
   "metadata": {},
   "outputs": [
    {
     "data": {
      "text/html": [
       "<div>\n",
       "<style>\n",
       "    .dataframe thead tr:only-child th {\n",
       "        text-align: right;\n",
       "    }\n",
       "\n",
       "    .dataframe thead th {\n",
       "        text-align: left;\n",
       "    }\n",
       "\n",
       "    .dataframe tbody tr th {\n",
       "        vertical-align: top;\n",
       "    }\n",
       "</style>\n",
       "<table border=\"1\" class=\"dataframe\">\n",
       "  <thead>\n",
       "    <tr style=\"text-align: right;\">\n",
       "      <th></th>\n",
       "      <th>F1</th>\n",
       "      <th>F2</th>\n",
       "    </tr>\n",
       "  </thead>\n",
       "  <tbody>\n",
       "    <tr>\n",
       "      <th>count</th>\n",
       "      <td>267.00</td>\n",
       "      <td>267.00</td>\n",
       "    </tr>\n",
       "    <tr>\n",
       "      <th>mean</th>\n",
       "      <td>0.00</td>\n",
       "      <td>-0.00</td>\n",
       "    </tr>\n",
       "    <tr>\n",
       "      <th>std</th>\n",
       "      <td>1.00</td>\n",
       "      <td>1.00</td>\n",
       "    </tr>\n",
       "    <tr>\n",
       "      <th>min</th>\n",
       "      <td>-2.59</td>\n",
       "      <td>-2.70</td>\n",
       "    </tr>\n",
       "    <tr>\n",
       "      <th>25%</th>\n",
       "      <td>-0.42</td>\n",
       "      <td>-0.47</td>\n",
       "    </tr>\n",
       "    <tr>\n",
       "      <th>50%</th>\n",
       "      <td>-0.22</td>\n",
       "      <td>-0.07</td>\n",
       "    </tr>\n",
       "    <tr>\n",
       "      <th>75%</th>\n",
       "      <td>0.16</td>\n",
       "      <td>0.35</td>\n",
       "    </tr>\n",
       "    <tr>\n",
       "      <th>max</th>\n",
       "      <td>5.55</td>\n",
       "      <td>5.52</td>\n",
       "    </tr>\n",
       "  </tbody>\n",
       "</table>\n",
       "</div>"
      ],
      "text/plain": [
       "           F1      F2\n",
       "count  267.00  267.00\n",
       "mean     0.00   -0.00\n",
       "std      1.00    1.00\n",
       "min     -2.59   -2.70\n",
       "25%     -0.42   -0.47\n",
       "50%     -0.22   -0.07\n",
       "75%      0.16    0.35\n",
       "max      5.55    5.52"
      ]
     },
     "execution_count": 14,
     "metadata": {},
     "output_type": "execute_result"
    }
   ],
   "source": [
    "F = pd.DataFrame(StandardScaler().fit_transform(F))\n",
    "F.columns = ['F1', 'F2']\n",
    "F.describe().round(2)"
   ]
  },
  {
   "cell_type": "markdown",
   "metadata": {},
   "source": [
    "#### As mentioned in GSS section 3.2, the two principal components are correlated with $mp_1$, the surpises in the current fed funds target."
   ]
  },
  {
   "cell_type": "code",
   "execution_count": 15,
   "metadata": {},
   "outputs": [
    {
     "data": {
      "text/html": [
       "<div>\n",
       "<style>\n",
       "    .dataframe thead tr:only-child th {\n",
       "        text-align: right;\n",
       "    }\n",
       "\n",
       "    .dataframe thead th {\n",
       "        text-align: left;\n",
       "    }\n",
       "\n",
       "    .dataframe tbody tr th {\n",
       "        vertical-align: top;\n",
       "    }\n",
       "</style>\n",
       "<table border=\"1\" class=\"dataframe\">\n",
       "  <thead>\n",
       "    <tr style=\"text-align: right;\">\n",
       "      <th></th>\n",
       "      <th>mp1_tc</th>\n",
       "      <th>F1</th>\n",
       "      <th>F2</th>\n",
       "    </tr>\n",
       "  </thead>\n",
       "  <tbody>\n",
       "    <tr>\n",
       "      <th>mp1_tc</th>\n",
       "      <td>1.00</td>\n",
       "      <td>-0.81</td>\n",
       "      <td>-0.52</td>\n",
       "    </tr>\n",
       "    <tr>\n",
       "      <th>F1</th>\n",
       "      <td>-0.81</td>\n",
       "      <td>1.00</td>\n",
       "      <td>0.00</td>\n",
       "    </tr>\n",
       "    <tr>\n",
       "      <th>F2</th>\n",
       "      <td>-0.52</td>\n",
       "      <td>0.00</td>\n",
       "      <td>1.00</td>\n",
       "    </tr>\n",
       "  </tbody>\n",
       "</table>\n",
       "</div>"
      ],
      "text/plain": [
       "        mp1_tc    F1    F2\n",
       "mp1_tc    1.00 -0.81 -0.52\n",
       "F1       -0.81  1.00  0.00\n",
       "F2       -0.52  0.00  1.00"
      ]
     },
     "execution_count": 15,
     "metadata": {},
     "output_type": "execute_result"
    }
   ],
   "source": [
    "pd.concat([X['mp1_tc'], F], axis=1).corr().round(2)"
   ]
  },
  {
   "cell_type": "markdown",
   "metadata": {},
   "source": [
    "#### So to structurize the two factors, we rotate them by forming $267\\times 2$ matrix Z $$ Z=[Z_1 \\ Z_2] = FU$$ where $Z_1$ and $Z_2$ correspond to the rotated factors, and where $U$ is a $2\\times 2$ solved by:\n"
   ]
  },
  {
   "cell_type": "code",
   "execution_count": 16,
   "metadata": {},
   "outputs": [
    {
     "name": "stdout",
     "output_type": "stream",
     "text": [
      "U = [[-0.52269005  0.85252279]\n",
      " [-0.85252279 -0.52269005]]\n"
     ]
    }
   ],
   "source": [
    "gamma1 = eigenvectors[0][0]\n",
    "gamma2 = eigenvectors[1][0]\n",
    "\n",
    "#alpha1 = -1.0*gamma1/(math.sqrt(math.pow(gamma1,2.0) + math.pow(gamma2,2.0)))\n",
    "#alpha2 = math.sqrt(1-(math.pow(alpha1,2.0)))\n",
    "\n",
    "#beta1 = -1.0*alpha2/(math.sqrt(math.pow(alpha1,2.0) + math.pow(alpha2,2.0)))\n",
    "#beta2 = math.sqrt(1-(math.pow(beta1,2.0)))\n",
    "\n",
    "\n",
    "alpha1 = 1.0*gamma1/math.sqrt(gamma1**2.0 + gamma2**2.0)\n",
    "alpha2 = 1.0*gamma2/math.sqrt(gamma1**2.0 + gamma2**2.0)\n",
    "\n",
    "beta1 = 1.0*math.sqrt(gamma2**2.0 / (gamma1**2.0 + gamma2**2.0))\n",
    "beta2 = -1.0*gamma1*math.sqrt(gamma2**2/(gamma1**2.0 + gamma2**2.0))/gamma2\n",
    "\n",
    "U = np.array([[alpha1, beta1],[alpha2, beta2]])\n",
    "print('U = %s'%U)"
   ]
  },
  {
   "cell_type": "markdown",
   "metadata": {},
   "source": [
    "#### Create new dataframe with rotated factors $Z_1$ and $Z_2$, and then check the four identification constraints."
   ]
  },
  {
   "cell_type": "code",
   "execution_count": 17,
   "metadata": {
    "scrolled": false
   },
   "outputs": [
    {
     "data": {
      "text/html": [
       "<div>\n",
       "<style>\n",
       "    .dataframe thead tr:only-child th {\n",
       "        text-align: right;\n",
       "    }\n",
       "\n",
       "    .dataframe thead th {\n",
       "        text-align: left;\n",
       "    }\n",
       "\n",
       "    .dataframe tbody tr th {\n",
       "        vertical-align: top;\n",
       "    }\n",
       "</style>\n",
       "<table border=\"1\" class=\"dataframe\">\n",
       "  <thead>\n",
       "    <tr style=\"text-align: right;\">\n",
       "      <th></th>\n",
       "      <th>Z1</th>\n",
       "      <th>Z2</th>\n",
       "    </tr>\n",
       "  </thead>\n",
       "  <tbody>\n",
       "    <tr>\n",
       "      <th>Z1</th>\n",
       "      <td>1.0</td>\n",
       "      <td>-0.0</td>\n",
       "    </tr>\n",
       "    <tr>\n",
       "      <th>Z2</th>\n",
       "      <td>-0.0</td>\n",
       "      <td>1.0</td>\n",
       "    </tr>\n",
       "  </tbody>\n",
       "</table>\n",
       "</div>"
      ],
      "text/plain": [
       "     Z1   Z2\n",
       "Z1  1.0 -0.0\n",
       "Z2 -0.0  1.0"
      ]
     },
     "execution_count": 17,
     "metadata": {},
     "output_type": "execute_result"
    }
   ],
   "source": [
    "Z = pd.DataFrame(np.dot(F,U))\n",
    "Z.columns=['Z1','Z2']\n",
    "Z.cov().round(2)"
   ]
  },
  {
   "cell_type": "markdown",
   "metadata": {},
   "source": [
    "#### The columns of $U$ have unit length\n",
    "$$\\begin{align*}\n",
    "\\sqrt{\\alpha_1 ^2 + \\alpha_2^2} = 1\n",
    "\\\\\\sqrt{\\beta_1 ^2 + \\beta_2^2} = 1\n",
    "\\end{align*}$$"
   ]
  },
  {
   "cell_type": "code",
   "execution_count": 18,
   "metadata": {},
   "outputs": [
    {
     "name": "stdout",
     "output_type": "stream",
     "text": [
      "1.0\n",
      "1.0\n"
     ]
    }
   ],
   "source": [
    "print(np.linalg.norm(U[:,0]))\n",
    "print(np.linalg.norm(U[:,1]))"
   ]
  },
  {
   "cell_type": "markdown",
   "metadata": {},
   "source": [
    "#### $Z_1$ and $Z_2$ have unit variance."
   ]
  },
  {
   "cell_type": "code",
   "execution_count": 19,
   "metadata": {
    "scrolled": true
   },
   "outputs": [
    {
     "data": {
      "text/html": [
       "<div>\n",
       "<style>\n",
       "    .dataframe thead tr:only-child th {\n",
       "        text-align: right;\n",
       "    }\n",
       "\n",
       "    .dataframe thead th {\n",
       "        text-align: left;\n",
       "    }\n",
       "\n",
       "    .dataframe tbody tr th {\n",
       "        vertical-align: top;\n",
       "    }\n",
       "</style>\n",
       "<table border=\"1\" class=\"dataframe\">\n",
       "  <thead>\n",
       "    <tr style=\"text-align: right;\">\n",
       "      <th></th>\n",
       "      <th>Z1</th>\n",
       "      <th>Z2</th>\n",
       "    </tr>\n",
       "  </thead>\n",
       "  <tbody>\n",
       "    <tr>\n",
       "      <th>count</th>\n",
       "      <td>267.00</td>\n",
       "      <td>267.00</td>\n",
       "    </tr>\n",
       "    <tr>\n",
       "      <th>mean</th>\n",
       "      <td>0.00</td>\n",
       "      <td>0.00</td>\n",
       "    </tr>\n",
       "    <tr>\n",
       "      <th>std</th>\n",
       "      <td>1.00</td>\n",
       "      <td>1.00</td>\n",
       "    </tr>\n",
       "    <tr>\n",
       "      <th>min</th>\n",
       "      <td>-6.69</td>\n",
       "      <td>-4.23</td>\n",
       "    </tr>\n",
       "    <tr>\n",
       "      <th>25%</th>\n",
       "      <td>-0.14</td>\n",
       "      <td>-0.42</td>\n",
       "    </tr>\n",
       "    <tr>\n",
       "      <th>50%</th>\n",
       "      <td>0.19</td>\n",
       "      <td>-0.13</td>\n",
       "    </tr>\n",
       "    <tr>\n",
       "      <th>75%</th>\n",
       "      <td>0.43</td>\n",
       "      <td>0.31</td>\n",
       "    </tr>\n",
       "    <tr>\n",
       "      <th>max</th>\n",
       "      <td>2.97</td>\n",
       "      <td>4.39</td>\n",
       "    </tr>\n",
       "  </tbody>\n",
       "</table>\n",
       "</div>"
      ],
      "text/plain": [
       "           Z1      Z2\n",
       "count  267.00  267.00\n",
       "mean     0.00    0.00\n",
       "std      1.00    1.00\n",
       "min     -6.69   -4.23\n",
       "25%     -0.14   -0.42\n",
       "50%      0.19   -0.13\n",
       "75%      0.43    0.31\n",
       "max      2.97    4.39"
      ]
     },
     "execution_count": 19,
     "metadata": {},
     "output_type": "execute_result"
    }
   ],
   "source": [
    "Z.describe().round(2)"
   ]
  },
  {
   "cell_type": "markdown",
   "metadata": {},
   "source": [
    "#### $Z_1$ and $Z_2$ are orthogonal to each other\n",
    "\n",
    "$$ \\text{E} (Z_1 Z_2) = \\alpha_1 \\beta_1 + \\alpha_2\\beta_2=0$$"
   ]
  },
  {
   "cell_type": "code",
   "execution_count": 20,
   "metadata": {},
   "outputs": [
    {
     "name": "stdout",
     "output_type": "stream",
     "text": [
      "0.0\n"
     ]
    }
   ],
   "source": [
    "print((alpha1*beta1 + alpha2*beta2).round(2))"
   ]
  },
  {
   "cell_type": "code",
   "execution_count": 21,
   "metadata": {},
   "outputs": [
    {
     "data": {
      "text/html": [
       "<div>\n",
       "<style>\n",
       "    .dataframe thead tr:only-child th {\n",
       "        text-align: right;\n",
       "    }\n",
       "\n",
       "    .dataframe thead th {\n",
       "        text-align: left;\n",
       "    }\n",
       "\n",
       "    .dataframe tbody tr th {\n",
       "        vertical-align: top;\n",
       "    }\n",
       "</style>\n",
       "<table border=\"1\" class=\"dataframe\">\n",
       "  <thead>\n",
       "    <tr style=\"text-align: right;\">\n",
       "      <th></th>\n",
       "      <th>mp1_tc</th>\n",
       "      <th>Z1</th>\n",
       "      <th>Z2</th>\n",
       "    </tr>\n",
       "  </thead>\n",
       "  <tbody>\n",
       "    <tr>\n",
       "      <th>mp1_tc</th>\n",
       "      <td>1.00</td>\n",
       "      <td>0.87</td>\n",
       "      <td>-0.42</td>\n",
       "    </tr>\n",
       "    <tr>\n",
       "      <th>Z1</th>\n",
       "      <td>0.87</td>\n",
       "      <td>1.00</td>\n",
       "      <td>-0.00</td>\n",
       "    </tr>\n",
       "    <tr>\n",
       "      <th>Z2</th>\n",
       "      <td>-0.42</td>\n",
       "      <td>-0.00</td>\n",
       "      <td>1.00</td>\n",
       "    </tr>\n",
       "  </tbody>\n",
       "</table>\n",
       "</div>"
      ],
      "text/plain": [
       "        mp1_tc    Z1    Z2\n",
       "mp1_tc    1.00  0.87 -0.42\n",
       "Z1        0.87  1.00 -0.00\n",
       "Z2       -0.42 -0.00  1.00"
      ]
     },
     "execution_count": 21,
     "metadata": {},
     "output_type": "execute_result"
    }
   ],
   "source": [
    "pd.concat([X['mp1_tc'], Z], axis=1).corr().round(2)"
   ]
  },
  {
   "cell_type": "markdown",
   "metadata": {},
   "source": [
    "#### And $Z_2$ does not influence the current policy suprise $mp1$ $$\\gamma_2 \\alpha_1 - \\gamma_1 \\alpha_2 =0.$$"
   ]
  },
  {
   "cell_type": "code",
   "execution_count": 22,
   "metadata": {},
   "outputs": [
    {
     "name": "stdout",
     "output_type": "stream",
     "text": [
      "0.0\n"
     ]
    }
   ],
   "source": [
    "print(gamma2*alpha1-gamma1*alpha2)"
   ]
  },
  {
   "cell_type": "markdown",
   "metadata": {},
   "source": [
    "#### Rescale $Z_1$ and $Z_2$ so that $Z_1$ moves the current policy surprise $mp1$ one-for-one and $Z_2$ has the same magnitude effect on the year-ahead eurodollar futures rate as $Z_1$ has on that rate."
   ]
  },
  {
   "cell_type": "markdown",
   "metadata": {},
   "source": [
    "#### Unscaled regression"
   ]
  },
  {
   "cell_type": "code",
   "execution_count": 357,
   "metadata": {},
   "outputs": [
    {
     "name": "stdout",
     "output_type": "stream",
     "text": [
      "                            OLS Regression Results                            \n",
      "==============================================================================\n",
      "Dep. Variable:                 mp1_tc   R-squared:                       0.932\n",
      "Model:                            OLS   Adj. R-squared:                  0.931\n",
      "Method:                 Least Squares   F-statistic:                     1810.\n",
      "Date:                Mon, 27 Nov 2017   Prob (F-statistic):          3.11e-155\n",
      "Time:                        15:50:24   Log-Likelihood:                -20.405\n",
      "No. Observations:                 267   AIC:                             44.81\n",
      "Df Residuals:                     265   BIC:                             51.98\n",
      "Df Model:                           2                                         \n",
      "Covariance Type:            nonrobust                                         \n",
      "==============================================================================\n",
      "                 coef    std err          t      P>|t|      [0.025      0.975]\n",
      "------------------------------------------------------------------------------\n",
      "Z1            -0.8682      0.016    -54.114      0.000      -0.900      -0.837\n",
      "Z2             0.4218      0.016     26.291      0.000       0.390       0.453\n",
      "==============================================================================\n",
      "Omnibus:                      214.662   Durbin-Watson:                   1.725\n",
      "Prob(Omnibus):                  0.000   Jarque-Bera (JB):             8318.182\n",
      "Skew:                           2.762   Prob(JB):                         0.00\n",
      "Kurtosis:                      29.780   Cond. No.                         1.00\n",
      "==============================================================================\n",
      "\n",
      "Warnings:\n",
      "[1] Standard Errors assume that the covariance matrix of the errors is correctly specified.\n"
     ]
    }
   ],
   "source": [
    "reg1 = sm.OLS(endog=X['mp1_tc'], exog=rotated_factors, missing='drop')\n",
    "results = reg1.fit()\n",
    "print(results.summary())"
   ]
  },
  {
   "cell_type": "markdown",
   "metadata": {},
   "source": [
    "#### Scaled regression"
   ]
  },
  {
   "cell_type": "code",
   "execution_count": 519,
   "metadata": {},
   "outputs": [
    {
     "data": {
      "text/html": [
       "<div>\n",
       "<style>\n",
       "    .dataframe thead tr:only-child th {\n",
       "        text-align: right;\n",
       "    }\n",
       "\n",
       "    .dataframe thead th {\n",
       "        text-align: left;\n",
       "    }\n",
       "\n",
       "    .dataframe tbody tr th {\n",
       "        vertical-align: top;\n",
       "    }\n",
       "</style>\n",
       "<table border=\"1\" class=\"dataframe\">\n",
       "  <thead>\n",
       "    <tr style=\"text-align: right;\">\n",
       "      <th></th>\n",
       "      <th>Target Factor</th>\n",
       "      <th>Path Factor</th>\n",
       "      <th>const</th>\n",
       "    </tr>\n",
       "  </thead>\n",
       "  <tbody>\n",
       "    <tr>\n",
       "      <th>262</th>\n",
       "      <td>0.227325</td>\n",
       "      <td>0.058234</td>\n",
       "      <td>1</td>\n",
       "    </tr>\n",
       "    <tr>\n",
       "      <th>263</th>\n",
       "      <td>0.419808</td>\n",
       "      <td>-0.123781</td>\n",
       "      <td>1</td>\n",
       "    </tr>\n",
       "    <tr>\n",
       "      <th>264</th>\n",
       "      <td>0.055774</td>\n",
       "      <td>0.173953</td>\n",
       "      <td>1</td>\n",
       "    </tr>\n",
       "    <tr>\n",
       "      <th>265</th>\n",
       "      <td>0.103113</td>\n",
       "      <td>0.139933</td>\n",
       "      <td>1</td>\n",
       "    </tr>\n",
       "    <tr>\n",
       "      <th>266</th>\n",
       "      <td>0.168370</td>\n",
       "      <td>0.148383</td>\n",
       "      <td>1</td>\n",
       "    </tr>\n",
       "  </tbody>\n",
       "</table>\n",
       "</div>"
      ],
      "text/plain": [
       "     Target Factor  Path Factor  const\n",
       "262       0.227325     0.058234      1\n",
       "263       0.419808    -0.123781      1\n",
       "264       0.055774     0.173953      1\n",
       "265       0.103113     0.139933      1\n",
       "266       0.168370     0.148383      1"
      ]
     },
     "execution_count": 519,
     "metadata": {},
     "output_type": "execute_result"
    }
   ],
   "source": [
    "rotated_factors_scaled = pd.DataFrame()\n",
    "rotated_factors_scaled['Target Factor'] = rotated_factors['Z1'].copy()/-1.151753\n",
    "#rotated_factors_scaled['Path Factor'] = rotated_factors['Z2'].copy() # no change\n",
    "#rotated_factors_scaled['Path Factor'] = rotated_factors['Z2'].copy()/0.151673 #make it same as ed4_tc\n",
    "rotated_factors_scaled['Path Factor'] = rotated_factors['Z2'].copy()/2.3707\n",
    "rotated_factors_scaled['const'] = 1\n",
    "rotated_factors_scaled.tail()"
   ]
  },
  {
   "cell_type": "code",
   "execution_count": 520,
   "metadata": {},
   "outputs": [
    {
     "name": "stdout",
     "output_type": "stream",
     "text": [
      "                            OLS Regression Results                            \n",
      "==============================================================================\n",
      "Dep. Variable:                 mp1_tc   R-squared:                       0.932\n",
      "Model:                            OLS   Adj. R-squared:                  0.931\n",
      "Method:                 Least Squares   F-statistic:                     1803.\n",
      "Date:                Mon, 27 Nov 2017   Prob (F-statistic):          1.19e-154\n",
      "Time:                        17:37:45   Log-Likelihood:                -20.405\n",
      "No. Observations:                 267   AIC:                             46.81\n",
      "Df Residuals:                     264   BIC:                             57.57\n",
      "Df Model:                           2                                         \n",
      "Covariance Type:            nonrobust                                         \n",
      "=================================================================================\n",
      "                    coef    std err          t      P>|t|      [0.025      0.975]\n",
      "---------------------------------------------------------------------------------\n",
      "Target Factor     1.0000      0.019     54.012      0.000       0.964       1.036\n",
      "Path Factor       1.0000      0.038     26.241      0.000       0.925       1.075\n",
      "const          7.893e-18      0.016   4.91e-16      1.000      -0.032       0.032\n",
      "==============================================================================\n",
      "Omnibus:                      214.662   Durbin-Watson:                   1.725\n",
      "Prob(Omnibus):                  0.000   Jarque-Bera (JB):             8318.182\n",
      "Skew:                           2.762   Prob(JB):                         0.00\n",
      "Kurtosis:                      29.780   Cond. No.                         2.37\n",
      "==============================================================================\n",
      "\n",
      "Warnings:\n",
      "[1] Standard Errors assume that the covariance matrix of the errors is correctly specified.\n",
      "                            OLS Regression Results                            \n",
      "==============================================================================\n",
      "Dep. Variable:                 ed4_tc   R-squared:                       0.974\n",
      "Model:                            OLS   Adj. R-squared:                  0.974\n",
      "Method:                 Least Squares   F-statistic:                     5042.\n",
      "Date:                Mon, 27 Nov 2017   Prob (F-statistic):          4.93e-211\n",
      "Time:                        17:37:45   Log-Likelihood:                 110.90\n",
      "No. Observations:                 267   AIC:                            -215.8\n",
      "Df Residuals:                     264   BIC:                            -205.0\n",
      "Df Model:                           2                                         \n",
      "Covariance Type:            nonrobust                                         \n",
      "=================================================================================\n",
      "                    coef    std err          t      P>|t|      [0.025      0.975]\n",
      "---------------------------------------------------------------------------------\n",
      "Target Factor     0.1484      0.011     13.111      0.000       0.126       0.171\n",
      "Path Factor       2.3202      0.023     99.557      0.000       2.274       2.366\n",
      "const          1.185e-16      0.010   1.21e-14      1.000      -0.019       0.019\n",
      "==============================================================================\n",
      "Omnibus:                       62.909   Durbin-Watson:                   1.516\n",
      "Prob(Omnibus):                  0.000   Jarque-Bera (JB):              557.144\n",
      "Skew:                          -0.624   Prob(JB):                    1.04e-121\n",
      "Kurtosis:                       9.966   Cond. No.                         2.37\n",
      "==============================================================================\n",
      "\n",
      "Warnings:\n",
      "[1] Standard Errors assume that the covariance matrix of the errors is correctly specified.\n"
     ]
    }
   ],
   "source": [
    "reg2 = sm.OLS(endog=X['mp1_tc'], exog=rotated_factors_scaled, missing='drop')\n",
    "results2 = reg2.fit()\n",
    "print(results2.summary())\n",
    "\n",
    "reg3 = sm.OLS(endog=X['ed4_tc'], exog=rotated_factors_scaled, missing='drop')\n",
    "results3 = reg3.fit()\n",
    "print(results3.summary())"
   ]
  },
  {
   "cell_type": "code",
   "execution_count": 521,
   "metadata": {},
   "outputs": [
    {
     "data": {
      "image/png": "[encoded data removed]",
      "text/plain": [
       "<matplotlib.figure.Figure at 0x11544d908>"
      ]
     },
     "metadata": {},
     "output_type": "display_data"
    }
   ],
   "source": [
    "ax = rotated_factors_scaled[['Target Factor','Path Factor']].plot(figsize=(16,6))\n",
    "#ax=pd.concat([X['mp1_tc'], rotated_factors_scaled[['Z1','Z2']]], axis=1).plot(figsize=(16,6))\n",
    "lines, labels = ax.get_legend_handles_labels()\n",
    "#labels = ['mp1','Z1 (scaled)', 'Z2 (scaled)']\n",
    "labels = ['Target Factor (scaled)', 'Path Factor (scaled)']\n",
    "ax.legend(lines, labels, loc='best')\n",
    "plt.title('Rotated and Scaled Target and Path Factors')\n",
    "plt.xlabel('Months')\n",
    "plt.show()"
   ]
  },
  {
   "cell_type": "markdown",
   "metadata": {},
   "source": [
    "#### We have data $X$ and let $V$ be the matrix where it's two columns are the first two eigenvectors of $X'X$. Then for the rotated factors $Z$ and first two principal components $F=XV$, we have that\n",
    "\n",
    "$$Z=FV=XVU$$ \n",
    "\n",
    "and the shifted eigenvectors are $VU$."
   ]
  },
  {
   "cell_type": "code",
   "execution_count": 522,
   "metadata": {},
   "outputs": [
    {
     "data": {
      "text/plain": [
       "array([[ 0.52269005, -0.85252279],\n",
       "       [ 0.85252279,  0.52269005]])"
      ]
     },
     "execution_count": 522,
     "metadata": {},
     "output_type": "execute_result"
    }
   ],
   "source": [
    "U = np.array([[alpha1, beta1],[alpha2, beta2]])\n",
    "U"
   ]
  },
  {
   "cell_type": "code",
   "execution_count": 523,
   "metadata": {},
   "outputs": [
    {
     "data": {
      "text/html": [
       "<div>\n",
       "<style>\n",
       "    .dataframe thead tr:only-child th {\n",
       "        text-align: right;\n",
       "    }\n",
       "\n",
       "    .dataframe thead th {\n",
       "        text-align: left;\n",
       "    }\n",
       "\n",
       "    .dataframe tbody tr th {\n",
       "        vertical-align: top;\n",
       "    }\n",
       "</style>\n",
       "<table border=\"1\" class=\"dataframe\">\n",
       "  <thead>\n",
       "    <tr style=\"text-align: right;\">\n",
       "      <th></th>\n",
       "      <th>0</th>\n",
       "      <th>1</th>\n",
       "    </tr>\n",
       "  </thead>\n",
       "  <tbody>\n",
       "    <tr>\n",
       "      <th>0</th>\n",
       "      <td>-0.400661</td>\n",
       "      <td>-0.653490</td>\n",
       "    </tr>\n",
       "    <tr>\n",
       "      <th>1</th>\n",
       "      <td>-0.433972</td>\n",
       "      <td>-0.429926</td>\n",
       "    </tr>\n",
       "    <tr>\n",
       "      <th>2</th>\n",
       "      <td>-0.480847</td>\n",
       "      <td>0.132600</td>\n",
       "    </tr>\n",
       "    <tr>\n",
       "      <th>3</th>\n",
       "      <td>-0.471859</td>\n",
       "      <td>0.339739</td>\n",
       "    </tr>\n",
       "    <tr>\n",
       "      <th>4</th>\n",
       "      <td>-0.444155</td>\n",
       "      <td>0.505082</td>\n",
       "    </tr>\n",
       "  </tbody>\n",
       "</table>\n",
       "</div>"
      ],
      "text/plain": [
       "          0         1\n",
       "0 -0.400661 -0.653490\n",
       "1 -0.433972 -0.429926\n",
       "2 -0.480847  0.132600\n",
       "3 -0.471859  0.339739\n",
       "4 -0.444155  0.505082"
      ]
     },
     "execution_count": 523,
     "metadata": {},
     "output_type": "execute_result"
    }
   ],
   "source": [
    "factor_loadings[[0,1]]"
   ]
  },
  {
   "cell_type": "code",
   "execution_count": 524,
   "metadata": {
    "scrolled": true
   },
   "outputs": [
    {
     "data": {
      "text/html": [
       "<div>\n",
       "<style>\n",
       "    .dataframe thead tr:only-child th {\n",
       "        text-align: right;\n",
       "    }\n",
       "\n",
       "    .dataframe thead th {\n",
       "        text-align: left;\n",
       "    }\n",
       "\n",
       "    .dataframe tbody tr th {\n",
       "        vertical-align: top;\n",
       "    }\n",
       "</style>\n",
       "<table border=\"1\" class=\"dataframe\">\n",
       "  <thead>\n",
       "    <tr style=\"text-align: right;\">\n",
       "      <th></th>\n",
       "      <th>0</th>\n",
       "      <th>1</th>\n",
       "    </tr>\n",
       "  </thead>\n",
       "  <tbody>\n",
       "    <tr>\n",
       "      <th>0</th>\n",
       "      <td>-0.766537</td>\n",
       "      <td>-1.389086e-17</td>\n",
       "    </tr>\n",
       "    <tr>\n",
       "      <th>1</th>\n",
       "      <td>-0.593355</td>\n",
       "      <td>1.452530e-01</td>\n",
       "    </tr>\n",
       "    <tr>\n",
       "      <th>2</th>\n",
       "      <td>-0.138289</td>\n",
       "      <td>4.792418e-01</td>\n",
       "    </tr>\n",
       "    <tr>\n",
       "      <th>3</th>\n",
       "      <td>0.042999</td>\n",
       "      <td>5.798488e-01</td>\n",
       "    </tr>\n",
       "    <tr>\n",
       "      <th>4</th>\n",
       "      <td>0.198439</td>\n",
       "      <td>6.426541e-01</td>\n",
       "    </tr>\n",
       "  </tbody>\n",
       "</table>\n",
       "</div>"
      ],
      "text/plain": [
       "          0             1\n",
       "0 -0.766537 -1.389086e-17\n",
       "1 -0.593355  1.452530e-01\n",
       "2 -0.138289  4.792418e-01\n",
       "3  0.042999  5.798488e-01\n",
       "4  0.198439  6.426541e-01"
      ]
     },
     "execution_count": 524,
     "metadata": {},
     "output_type": "execute_result"
    }
   ],
   "source": [
    "scaled_shifted_eigenvectors = pd.DataFrame(np.dot(factor_loadings[[0,1]],U))\n",
    "scaled_shifted_eigenvectors"
   ]
  },
  {
   "cell_type": "code",
   "execution_count": 525,
   "metadata": {},
   "outputs": [
    {
     "data": {
      "image/png": "[encoded data removed]",
      "text/plain": [
       "<matplotlib.figure.Figure at 0x115f81898>"
      ]
     },
     "metadata": {},
     "output_type": "display_data"
    }
   ],
   "source": [
    "ax = scaled_shifted_eigenvectors.plot(figsize=(12,6))\n",
    "ax.set_xticks(range(len(X.columns)))\n",
    "ax.set_xticklabels(X.columns)\n",
    "\n",
    "lines, labels = ax.get_legend_handles_labels()\n",
    "labels = ['Z1', 'Z2']\n",
    "ax.legend(lines, labels, loc='best')\n",
    "\n",
    "plt.title('Factor Loadings')\n",
    "plt.xlabel('Covariates')\n",
    "plt.ylabel('Weight')\n",
    "plt.show()"
   ]
  },
  {
   "cell_type": "markdown",
   "metadata": {},
   "source": [
    "#### Regression with just Target factor"
   ]
  },
  {
   "cell_type": "code",
   "execution_count": 528,
   "metadata": {
    "scrolled": false
   },
   "outputs": [
    {
     "name": "stdout",
     "output_type": "stream",
     "text": [
      "                            OLS Regression Results                            \n",
      "==============================================================================\n",
      "Dep. Variable:                 mp1_tc   R-squared:                       0.754\n",
      "Model:                            OLS   Adj. R-squared:                  0.753\n",
      "Method:                 Least Squares   F-statistic:                     811.6\n",
      "Date:                Mon, 27 Nov 2017   Prob (F-statistic):           1.22e-82\n",
      "Time:                        17:38:38   Log-Likelihood:                -191.72\n",
      "No. Observations:                 267   AIC:                             387.4\n",
      "Df Residuals:                     265   BIC:                             394.6\n",
      "Df Model:                           1                                         \n",
      "Covariance Type:            nonrobust                                         \n",
      "=================================================================================\n",
      "                    coef    std err          t      P>|t|      [0.025      0.975]\n",
      "---------------------------------------------------------------------------------\n",
      "const         -4.654e-17      0.030  -1.53e-15      1.000      -0.060       0.060\n",
      "Target Factor     1.0000      0.035     28.488      0.000       0.931       1.069\n",
      "==============================================================================\n",
      "Omnibus:                       93.022   Durbin-Watson:                   1.615\n",
      "Prob(Omnibus):                  0.000   Jarque-Bera (JB):              955.945\n",
      "Skew:                           1.067   Prob(JB):                    2.62e-208\n",
      "Kurtosis:                      12.021   Cond. No.                         1.15\n",
      "==============================================================================\n",
      "\n",
      "Warnings:\n",
      "[1] Standard Errors assume that the covariance matrix of the errors is correctly specified.\n",
      "                            OLS Regression Results                            \n",
      "==============================================================================\n",
      "Dep. Variable:                 ff4_tc   R-squared:                       0.566\n",
      "Model:                            OLS   Adj. R-squared:                  0.564\n",
      "Method:                 Least Squares   F-statistic:                     344.9\n",
      "Date:                Mon, 27 Nov 2017   Prob (F-statistic):           6.96e-50\n",
      "Time:                        17:38:38   Log-Likelihood:                -267.57\n",
      "No. Observations:                 267   AIC:                             539.1\n",
      "Df Residuals:                     265   BIC:                             546.3\n",
      "Df Model:                           1                                         \n",
      "Covariance Type:            nonrobust                                         \n",
      "=================================================================================\n",
      "                    coef    std err          t      P>|t|      [0.025      0.975]\n",
      "---------------------------------------------------------------------------------\n",
      "const          2.804e-17      0.040   6.92e-16      1.000      -0.080       0.080\n",
      "Target Factor     0.8661      0.047     18.572      0.000       0.774       0.958\n",
      "==============================================================================\n",
      "Omnibus:                       72.290   Durbin-Watson:                   1.363\n",
      "Prob(Omnibus):                  0.000   Jarque-Bera (JB):              223.388\n",
      "Skew:                          -1.162   Prob(JB):                     3.10e-49\n",
      "Kurtosis:                       6.831   Cond. No.                         1.15\n",
      "==============================================================================\n",
      "\n",
      "Warnings:\n",
      "[1] Standard Errors assume that the covariance matrix of the errors is correctly specified.\n",
      "                            OLS Regression Results                            \n",
      "==============================================================================\n",
      "Dep. Variable:                 ed2_tc   R-squared:                       0.177\n",
      "Model:                            OLS   Adj. R-squared:                  0.174\n",
      "Method:                 Least Squares   F-statistic:                     56.88\n",
      "Date:                Mon, 27 Nov 2017   Prob (F-statistic):           7.41e-13\n",
      "Time:                        17:38:38   Log-Likelihood:                -352.90\n",
      "No. Observations:                 267   AIC:                             709.8\n",
      "Df Residuals:                     265   BIC:                             717.0\n",
      "Df Model:                           1                                         \n",
      "Covariance Type:            nonrobust                                         \n",
      "=================================================================================\n",
      "                    coef    std err          t      P>|t|      [0.025      0.975]\n",
      "---------------------------------------------------------------------------------\n",
      "const          1.776e-17      0.056   3.19e-16      1.000      -0.110       0.110\n",
      "Target Factor     0.4842      0.064      7.542      0.000       0.358       0.611\n",
      "==============================================================================\n",
      "Omnibus:                       67.499   Durbin-Watson:                   1.347\n",
      "Prob(Omnibus):                  0.000   Jarque-Bera (JB):              243.341\n",
      "Skew:                          -1.024   Prob(JB):                     1.44e-53\n",
      "Kurtosis:                       7.205   Cond. No.                         1.15\n",
      "==============================================================================\n",
      "\n",
      "Warnings:\n",
      "[1] Standard Errors assume that the covariance matrix of the errors is correctly specified.\n",
      "                            OLS Regression Results                            \n",
      "==============================================================================\n",
      "Dep. Variable:                 ed3_tc   R-squared:                       0.073\n",
      "Model:                            OLS   Adj. R-squared:                  0.070\n",
      "Method:                 Least Squares   F-statistic:                     20.90\n",
      "Date:                Mon, 27 Nov 2017   Prob (F-statistic):           7.42e-06\n",
      "Time:                        17:38:38   Log-Likelihood:                -368.72\n",
      "No. Observations:                 267   AIC:                             741.4\n",
      "Df Residuals:                     265   BIC:                             748.6\n",
      "Df Model:                           1                                         \n",
      "Covariance Type:            nonrobust                                         \n",
      "=================================================================================\n",
      "                    coef    std err          t      P>|t|      [0.025      0.975]\n",
      "---------------------------------------------------------------------------------\n",
      "const           4.22e-17      0.059   7.14e-16      1.000      -0.116       0.116\n",
      "Target Factor     0.3114      0.068      4.572      0.000       0.177       0.446\n",
      "==============================================================================\n",
      "Omnibus:                       60.740   Durbin-Watson:                   1.373\n",
      "Prob(Omnibus):                  0.000   Jarque-Bera (JB):              236.559\n",
      "Skew:                          -0.885   Prob(JB):                     4.28e-52\n",
      "Kurtosis:                       7.258   Cond. No.                         1.15\n",
      "==============================================================================\n",
      "\n",
      "Warnings:\n",
      "[1] Standard Errors assume that the covariance matrix of the errors is correctly specified.\n",
      "                            OLS Regression Results                            \n",
      "==============================================================================\n",
      "Dep. Variable:                 ed4_tc   R-squared:                       0.017\n",
      "Model:                            OLS   Adj. R-squared:                  0.013\n",
      "Method:                 Least Squares   F-statistic:                     4.476\n",
      "Date:                Mon, 27 Nov 2017   Prob (F-statistic):             0.0353\n",
      "Time:                        17:38:38   Log-Likelihood:                -376.62\n",
      "No. Observations:                 267   AIC:                             757.2\n",
      "Df Residuals:                     265   BIC:                             764.4\n",
      "Df Model:                           1                                         \n",
      "Covariance Type:            nonrobust                                         \n",
      "=================================================================================\n",
      "                    coef    std err          t      P>|t|      [0.025      0.975]\n",
      "---------------------------------------------------------------------------------\n",
      "const          1.577e-17      0.061   2.59e-16      1.000      -0.120       0.120\n",
      "Target Factor     0.1484      0.070      2.116      0.035       0.010       0.287\n",
      "==============================================================================\n",
      "Omnibus:                       47.548   Durbin-Watson:                   1.416\n",
      "Prob(Omnibus):                  0.000   Jarque-Bera (JB):              228.585\n",
      "Skew:                          -0.588   Prob(JB):                     2.31e-50\n",
      "Kurtosis:                       7.378   Cond. No.                         1.15\n",
      "==============================================================================\n",
      "\n",
      "Warnings:\n",
      "[1] Standard Errors assume that the covariance matrix of the errors is correctly specified.\n"
     ]
    }
   ],
   "source": [
    "reg3 = sm.OLS(endog=X['mp1_tc'], exog=rotated_factors_scaled[['const','Target Factor']], missing='drop')\n",
    "results3 = reg3.fit()\n",
    "print(results3.summary())\n",
    "\n",
    "reg3 = sm.OLS(endog=X['ff4_tc'], exog=rotated_factors_scaled[['const','Target Factor']], missing='drop')\n",
    "results3 = reg3.fit()\n",
    "print(results3.summary())\n",
    "\n",
    "reg3 = sm.OLS(endog=X['ed2_tc'], exog=rotated_factors_scaled[['const','Target Factor']], missing='drop')\n",
    "results3 = reg3.fit()\n",
    "print(results3.summary())\n",
    "\n",
    "reg3 = sm.OLS(endog=X['ed3_tc'], exog=rotated_factors_scaled[['const','Target Factor']], missing='drop')\n",
    "results3 = reg3.fit()\n",
    "print(results3.summary())\n",
    "\n",
    "reg3 = sm.OLS(endog=X['ed4_tc'], exog=rotated_factors_scaled[['const','Target Factor']], missing='drop')\n",
    "results3 = reg3.fit()\n",
    "print(results3.summary())"
   ]
  },
  {
   "cell_type": "markdown",
   "metadata": {},
   "source": [
    "#### Regression with Target and Path factors."
   ]
  },
  {
   "cell_type": "code",
   "execution_count": 529,
   "metadata": {
    "scrolled": false
   },
   "outputs": [
    {
     "name": "stdout",
     "output_type": "stream",
     "text": [
      "                            OLS Regression Results                            \n",
      "==============================================================================\n",
      "Dep. Variable:                 mp1_tc   R-squared:                       0.932\n",
      "Model:                            OLS   Adj. R-squared:                  0.931\n",
      "Method:                 Least Squares   F-statistic:                     1803.\n",
      "Date:                Mon, 27 Nov 2017   Prob (F-statistic):          1.19e-154\n",
      "Time:                        17:38:43   Log-Likelihood:                -20.405\n",
      "No. Observations:                 267   AIC:                             46.81\n",
      "Df Residuals:                     264   BIC:                             57.57\n",
      "Df Model:                           2                                         \n",
      "Covariance Type:            nonrobust                                         \n",
      "=================================================================================\n",
      "                    coef    std err          t      P>|t|      [0.025      0.975]\n",
      "---------------------------------------------------------------------------------\n",
      "Target Factor     1.0000      0.019     54.012      0.000       0.964       1.036\n",
      "Path Factor       1.0000      0.038     26.241      0.000       0.925       1.075\n",
      "const          7.893e-18      0.016   4.91e-16      1.000      -0.032       0.032\n",
      "==============================================================================\n",
      "Omnibus:                      214.662   Durbin-Watson:                   1.725\n",
      "Prob(Omnibus):                  0.000   Jarque-Bera (JB):             8318.182\n",
      "Skew:                           2.762   Prob(JB):                         0.00\n",
      "Kurtosis:                      29.780   Cond. No.                         2.37\n",
      "==============================================================================\n",
      "\n",
      "Warnings:\n",
      "[1] Standard Errors assume that the covariance matrix of the errors is correctly specified.\n",
      "                            OLS Regression Results                            \n",
      "==============================================================================\n",
      "Dep. Variable:                 ff4_tc   R-squared:                       0.893\n",
      "Model:                            OLS   Adj. R-squared:                  0.892\n",
      "Method:                 Least Squares   F-statistic:                     1104.\n",
      "Date:                Mon, 27 Nov 2017   Prob (F-statistic):          6.03e-129\n",
      "Time:                        17:38:43   Log-Likelihood:                -80.265\n",
      "No. Observations:                 267   AIC:                             166.5\n",
      "Df Residuals:                     264   BIC:                             177.3\n",
      "Df Model:                           2                                         \n",
      "Covariance Type:            nonrobust                                         \n",
      "=================================================================================\n",
      "                    coef    std err          t      P>|t|      [0.025      0.975]\n",
      "---------------------------------------------------------------------------------\n",
      "Target Factor     0.8661      0.023     37.386      0.000       0.821       0.912\n",
      "Path Factor       1.3570      0.048     28.457      0.000       1.263       1.451\n",
      "const          1.205e-16      0.020   5.99e-15      1.000      -0.040       0.040\n",
      "==============================================================================\n",
      "Omnibus:                      269.275   Durbin-Watson:                   1.821\n",
      "Prob(Omnibus):                  0.000   Jarque-Bera (JB):            15327.643\n",
      "Skew:                          -3.841   Prob(JB):                         0.00\n",
      "Kurtosis:                      39.315   Cond. No.                         2.37\n",
      "==============================================================================\n",
      "\n",
      "Warnings:\n",
      "[1] Standard Errors assume that the covariance matrix of the errors is correctly specified.\n",
      "                            OLS Regression Results                            \n",
      "==============================================================================\n",
      "Dep. Variable:                 ed2_tc   R-squared:                       0.964\n",
      "Model:                            OLS   Adj. R-squared:                  0.964\n",
      "Method:                 Least Squares   F-statistic:                     3550.\n",
      "Date:                Mon, 27 Nov 2017   Prob (F-statistic):          1.54e-191\n",
      "Time:                        17:38:43   Log-Likelihood:                 65.495\n",
      "No. Observations:                 267   AIC:                            -125.0\n",
      "Df Residuals:                     264   BIC:                            -114.2\n",
      "Df Model:                           2                                         \n",
      "Covariance Type:            nonrobust                                         \n",
      "=================================================================================\n",
      "                    coef    std err          t      P>|t|      [0.025      0.975]\n",
      "---------------------------------------------------------------------------------\n",
      "Target Factor     0.4842      0.013     36.074      0.000       0.458       0.511\n",
      "Path Factor       2.1037      0.028     76.152      0.000       2.049       2.158\n",
      "const          6.495e-17      0.012   5.57e-15      1.000      -0.023       0.023\n",
      "==============================================================================\n",
      "Omnibus:                      105.364   Durbin-Watson:                   1.535\n",
      "Prob(Omnibus):                  0.000   Jarque-Bera (JB):             1380.441\n",
      "Skew:                           1.181   Prob(JB):                    1.74e-300\n",
      "Kurtosis:                      13.886   Cond. No.                         2.37\n",
      "==============================================================================\n",
      "\n",
      "Warnings:\n",
      "[1] Standard Errors assume that the covariance matrix of the errors is correctly specified.\n",
      "                            OLS Regression Results                            \n",
      "==============================================================================\n",
      "Dep. Variable:                 ed3_tc   R-squared:                       0.991\n",
      "Model:                            OLS   Adj. R-squared:                  0.991\n",
      "Method:                 Least Squares   F-statistic:                 1.412e+04\n",
      "Date:                Mon, 27 Nov 2017   Prob (F-statistic):          4.00e-269\n",
      "Time:                        17:38:43   Log-Likelihood:                 246.18\n",
      "No. Observations:                 267   AIC:                            -486.4\n",
      "Df Residuals:                     264   BIC:                            -475.6\n",
      "Df Model:                           2                                         \n",
      "Covariance Type:            nonrobust                                         \n",
      "=================================================================================\n",
      "                    coef    std err          t      P>|t|      [0.025      0.975]\n",
      "---------------------------------------------------------------------------------\n",
      "Target Factor     0.3114      0.007     45.651      0.000       0.298       0.325\n",
      "Path Factor       2.2710      0.014    161.732      0.000       2.243       2.299\n",
      "const          1.901e-16      0.006   3.21e-14      1.000      -0.012       0.012\n",
      "==============================================================================\n",
      "Omnibus:                       83.702   Durbin-Watson:                   1.596\n",
      "Prob(Omnibus):                  0.000   Jarque-Bera (JB):              547.015\n",
      "Skew:                           1.075   Prob(JB):                    1.65e-119\n",
      "Kurtosis:                       9.674   Cond. No.                         2.37\n",
      "==============================================================================\n",
      "\n",
      "Warnings:\n",
      "[1] Standard Errors assume that the covariance matrix of the errors is correctly specified.\n",
      "                            OLS Regression Results                            \n",
      "==============================================================================\n",
      "Dep. Variable:                 ed4_tc   R-squared:                       0.974\n",
      "Model:                            OLS   Adj. R-squared:                  0.974\n",
      "Method:                 Least Squares   F-statistic:                     5042.\n",
      "Date:                Mon, 27 Nov 2017   Prob (F-statistic):          4.93e-211\n",
      "Time:                        17:38:43   Log-Likelihood:                 110.90\n",
      "No. Observations:                 267   AIC:                            -215.8\n",
      "Df Residuals:                     264   BIC:                            -205.0\n",
      "Df Model:                           2                                         \n",
      "Covariance Type:            nonrobust                                         \n",
      "=================================================================================\n",
      "                    coef    std err          t      P>|t|      [0.025      0.975]\n",
      "---------------------------------------------------------------------------------\n",
      "Target Factor     0.1484      0.011     13.111      0.000       0.126       0.171\n",
      "Path Factor       2.3202      0.023     99.557      0.000       2.274       2.366\n",
      "const          1.185e-16      0.010   1.21e-14      1.000      -0.019       0.019\n",
      "==============================================================================\n",
      "Omnibus:                       62.909   Durbin-Watson:                   1.516\n",
      "Prob(Omnibus):                  0.000   Jarque-Bera (JB):              557.144\n",
      "Skew:                          -0.624   Prob(JB):                    1.04e-121\n",
      "Kurtosis:                       9.966   Cond. No.                         2.37\n",
      "==============================================================================\n",
      "\n",
      "Warnings:\n",
      "[1] Standard Errors assume that the covariance matrix of the errors is correctly specified.\n"
     ]
    }
   ],
   "source": [
    "reg3 = sm.OLS(endog=X['mp1_tc'], exog=rotated_factors_scaled, missing='drop')\n",
    "results3 = reg3.fit()\n",
    "print(results3.summary())\n",
    "\n",
    "reg3 = sm.OLS(endog=X['ff4_tc'], exog=rotated_factors_scaled, missing='drop')\n",
    "results3 = reg3.fit()\n",
    "print(results3.summary())\n",
    "\n",
    "reg3 = sm.OLS(endog=X['ed2_tc'], exog=rotated_factors_scaled, missing='drop')\n",
    "results3 = reg3.fit()\n",
    "print(results3.summary())\n",
    "\n",
    "reg3 = sm.OLS(endog=X['ed3_tc'], exog=rotated_factors_scaled, missing='drop')\n",
    "results3 = reg3.fit()\n",
    "print(results3.summary())\n",
    "\n",
    "reg3 = sm.OLS(endog=X['ed4_tc'], exog=rotated_factors_scaled, missing='drop')\n",
    "results3 = reg3.fit()\n",
    "print(results3.summary())"
   ]
  },
  {
   "cell_type": "markdown",
   "metadata": {},
   "source": [
    "Change in Asset Prices | Constant | Target Factor | Path Factor | R-squared (both factors)|R-squared (Target facto ronly)|\n",
    "------------- |:-------------:| -----:| -----:| -----:|\n",
    "Current Fed Funds   | -1.203e-16  | 100.0000|6.3980|0.932\n",
    "3M ahead Fed Funds  | -6.672e-17  |86.6135  |8.6820 |0.893\n",
    "2Q ahead Eurodollar | -2.541e-16  |48.4156  |13.4592|0.964\n",
    "3Q ahead Eurodollar | -1.671e-16  | 31.1418 |14.5292|0.991\n",
    "4Q ahead Eurodollar | -2.213e-16  | 14.8444 |14.8444|0.974"
   ]
  },
  {
   "cell_type": "code",
   "execution_count": null,
   "metadata": {
    "collapsed": true
   },
   "outputs": [],
   "source": []
  },
  {
   "cell_type": "code",
   "execution_count": null,
   "metadata": {
    "collapsed": true
   },
   "outputs": [],
   "source": []
  },
  {
   "cell_type": "code",
   "execution_count": null,
   "metadata": {
    "collapsed": true
   },
   "outputs": [],
   "source": []
  }
 ],
 "metadata": {
  "kernelspec": {
   "display_name": "Python 3",
   "language": "python",
   "name": "python3"
  },
  "language_info": {
   "codemirror_mode": {
    "name": "ipython",
    "version": 3
   },
   "file_extension": ".py",
   "mimetype": "text/x-python",
   "name": "python",
   "nbconvert_exporter": "python",
   "pygments_lexer": "ipython3",
   "version": "3.6.3"
  }
 },
 "nbformat": 4,
 "nbformat_minor": 2
}
